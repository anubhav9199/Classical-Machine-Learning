{
 "cells": [
  {
   "cell_type": "markdown",
   "metadata": {},
   "source": [
    "# Support Vector Regression from Scratch using Support Vector Machine Module\n",
    "Support Vector Regression(SVR) is quite different than other Regression models. It uses the Support Vector Machine(SVM, a classification algorithm) algorithm to predict a continuous variable. While other linear regression models try to minimize the error between the predicted and the actual value, Support Vector Regression tries to fit the best line within a predefined or threshold error value. What SVR does in this sense, it tries to classify all the prediction lines in two types, ones that pass through the error boundary( space separated by two parallel lines) and ones that don’t. Those lines which do not pass the error boundary are not considered as the difference between the predicted value and the actual value has exceeded the error threshold, 𝞮(epsilon). The lines that pass, are considered for a potential support vector to predict the value of an unknown. The following illustration will help you to grab this concept.\n",
    "# ----------------------------------------------------------------------------------------------------------\n",
    "## Importing Libraries\n",
    "Importing Support_Vector_Machine Module made by Anubhav Sharma"
   ]
  },
  {
   "cell_type": "code",
   "execution_count": 1,
   "metadata": {},
   "outputs": [],
   "source": [
    "import numpy as np\n",
    "import pandas as pd\n",
    "import matplotlib.pyplot as plt\n",
    "from matplotlib import style\n",
    "style = 'ggplot'\n",
    "from Support_Vector_Machine.SupportVectorMachine import SVR\n",
    "from Support_Vector_Machine.HelperFunction import calculate_accuracy, confusionMatrix, train_test_split"
   ]
  },
  {
   "cell_type": "markdown",
   "metadata": {},
   "source": [
    "# ----------------------------------------------------------------------------------------------------------\n",
    "### Calling Data\n",
    "Data is call for work. The Columns are selected here is according to the BREAST CANCER DATASET from WINCONSIN Hospital Easily find on Kaggle(www.kaggle.com).<br>\n",
    "Creating Dataset from original columns from the dataset so that you won't face any trouble regarding the dataset. I use Breast Cancer Dataset to train model and predict whether the person is having cancer or not."
   ]
  },
  {
   "cell_type": "code",
   "execution_count": 2,
   "metadata": {},
   "outputs": [],
   "source": [
    "cancer_df = pd.read_csv('./Dataset/Breast Cancer Dataset/Breast_Cancer_Data.csv')\n",
    "cancer_df['diagnosis'].replace(['B', 'M'], [0, 1], inplace = True)\n",
    "cancer_df['labels'] = cancer_df.diagnosis\n",
    "cancer_df.drop([cancer_df.columns[0], cancer_df.columns[1], cancer_df.columns[32]], axis = 1, inplace = True)"
   ]
  },
  {
   "cell_type": "markdown",
   "metadata": {},
   "source": [
    "Removing data and labels for the model to fit."
   ]
  },
  {
   "cell_type": "code",
   "execution_count": 3,
   "metadata": {},
   "outputs": [],
   "source": [
    "cancer_data = cancer_df.iloc[:, 2:3].values\n",
    "cancer_label = cancer_df.iloc[:, -1].values\n",
    "cancer_label = cancer_label.reshape(cancer_label.shape[0],1)\n",
    "cancer_data = pd.DataFrame(cancer_data)\n",
    "cancer_label = pd.DataFrame(cancer_label)"
   ]
  },
  {
   "cell_type": "markdown",
   "metadata": {},
   "source": [
    "### Train Test Split"
   ]
  },
  {
   "cell_type": "code",
   "execution_count": 4,
   "metadata": {},
   "outputs": [],
   "source": [
    "train_cancer, test_cancer = train_test_split(cancer_data, test_size = 0.25)\n",
    "train_label, test_label = train_test_split(cancer_label, test_size = 0.25)\n",
    "train_cancer = train_cancer.values\n",
    "test_cancer = test_cancer.values\n",
    "train_label = train_label.values\n",
    "test_label = test_label.values"
   ]
  },
  {
   "cell_type": "markdown",
   "metadata": {},
   "source": [
    "## Support Vector Model"
   ]
  },
  {
   "cell_type": "code",
   "execution_count": 5,
   "metadata": {},
   "outputs": [
    {
     "name": "stdout",
     "output_type": "stream",
     "text": [
      "Precomputing the kernel matrix\n",
      "Training...\n",
      "This may take 1 to 2 minutes\n",
      " DONE! \n"
     ]
    }
   ],
   "source": [
    "SupportVectorRegression = SVR()\n",
    "SupportVectorRegression.fit(train_cancer, train_label)"
   ]
  },
  {
   "cell_type": "markdown",
   "metadata": {},
   "source": [
    "## Prediction Over Model\n",
    "#### Training Data"
   ]
  },
  {
   "cell_type": "code",
   "execution_count": 6,
   "metadata": {},
   "outputs": [
    {
     "name": "stdout",
     "output_type": "stream",
     "text": [
      "-----------------------------------------------------\n",
      "Confusion Matrix : [273, 154, 154, 273]\n",
      "Accuracy over Training Data : 0.639344262295082\n",
      "Precision : 0.639344262295082\n",
      "Recall : 0.639344262295082\n",
      "FM : 0.639344262295082\n",
      "-----------------------------------------------------\n"
     ]
    }
   ],
   "source": [
    "train_predict = SupportVectorRegression.predict(train_cancer)\n",
    "train_cm, train_accuracy, train_precision , train_recall, train_fm = confusionMatrix(train_label,train_predict)\n",
    "\n",
    "print(\"-----------------------------------------------------\")\n",
    "print(\"Confusion Matrix : {}\\nAccuracy over Training Data : {}\\nPrecision : {}\\nRecall : {}\\nFM : {}\".format(train_cm, train_accuracy, train_precision, train_recall, train_fm))\n",
    "print(\"-----------------------------------------------------\")"
   ]
  },
  {
   "cell_type": "markdown",
   "metadata": {},
   "source": [
    "#### Testing Data"
   ]
  },
  {
   "cell_type": "code",
   "execution_count": 7,
   "metadata": {},
   "outputs": [
    {
     "name": "stdout",
     "output_type": "stream",
     "text": [
      "-----------------------------------------------------\n",
      "Confusion Matrix : [84, 58, 58, 84]\n",
      "Accuracy over Testing Data : 0.5915492957746479\n",
      "Precision : 0.5915492957746479\n",
      "Recall : 0.5915492957746479\n",
      "FM : 0.5915492957746479\n",
      "-----------------------------------------------------\n"
     ]
    }
   ],
   "source": [
    "test_predict = SupportVectorRegression.predict(test_cancer)\n",
    "test_cm, test_accuracy, test_precision , test_recall, test_fm = confusionMatrix(test_label,test_predict)\n",
    "\n",
    "print(\"-----------------------------------------------------\")\n",
    "print(\"Confusion Matrix : {}\\nAccuracy over Testing Data : {}\\nPrecision : {}\\nRecall : {}\\nFM : {}\".format(test_cm, test_accuracy, test_precision , test_recall, test_fm))\n",
    "print(\"-----------------------------------------------------\")"
   ]
  }
 ],
 "metadata": {
  "kernelspec": {
   "display_name": "Python 3",
   "language": "python",
   "name": "python3"
  },
  "language_info": {
   "codemirror_mode": {
    "name": "ipython",
    "version": 3
   },
   "file_extension": ".py",
   "mimetype": "text/x-python",
   "name": "python",
   "nbconvert_exporter": "python",
   "pygments_lexer": "ipython3",
   "version": "3.7.6"
  }
 },
 "nbformat": 4,
 "nbformat_minor": 4
}
