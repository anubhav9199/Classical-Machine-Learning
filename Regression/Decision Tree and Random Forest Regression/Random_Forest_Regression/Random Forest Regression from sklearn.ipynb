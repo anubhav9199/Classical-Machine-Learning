{
 "cells": [
  {
   "cell_type": "markdown",
   "metadata": {},
   "source": [
    "# Random Forest Regression from SKLearn\n",
    "Every decision tree has high variance, but when we combine all of them together in parallel then the resultant variance is low as each decision tree gets perfectly trained on that particular sample data and hence the output doesn’t depend on one decision tree but multiple decision trees. In the case of a classification problem, the final output is taken by using the majority voting classifier. In the case of a regression problem, the final output is the mean of all the outputs.<br>\n",
    "A Random Forest is an ensemble technique capable of performing both regression and classification tasks with the use of multiple decision trees and a technique called Bootstrap and Aggregation, commonly known as bagging. The basic idea behind this is to combine multiple decision trees in determining the final output rather than relying on individual decision trees.<br>\n",
    "Random Forest work on three functions :-<br>\n",
    "(1) Boot Strapping<br>\n",
    "(2) Random Subspace<br>\n",
    "(3) Prediction\n",
    "# ----------------------------------------------------------------------------------------------------------------------------------------------------------\n",
    "## Importing Libraries"
   ]
  },
  {
   "cell_type": "code",
   "execution_count": 1,
   "metadata": {},
   "outputs": [],
   "source": [
    "import numpy as np\n",
    "import pandas as pd\n",
    "import matplotlib.pyplot as plt\n",
    "from sklearn.ensemble import RandomForestRegressor\n",
    "from sklearn.metrics import accuracy_score, mean_absolute_error, mean_squared_error\n",
    "from sklearn.model_selection import train_test_split"
   ]
  },
  {
   "cell_type": "markdown",
   "metadata": {},
   "source": [
    "# -----------------------------------------------------------------------------------------------------------------------------------------------------------\n",
    "## Calling Data\n",
    "Data is call for work. The Columns are selected here is according to the BREAST CANCER DATASET from WINCONSIN Hospital Easily find on Kaggle(www.kaggle.com).<br>\n",
    "Creating Dataset from original columns from the dataset so that you won't face any trouble regarding the dataset. I use Breast Cancer Dataset to train model and predict whether the person is having cancer or not."
   ]
  },
  {
   "cell_type": "code",
   "execution_count": 2,
   "metadata": {},
   "outputs": [],
   "source": [
    "cancer_df = pd.read_csv('./Dataset/Breast Cancer Dataset/Breast_Cancer_Data.csv')\n",
    "cancer_df['diagnosis'].replace(['B', 'M'], [0, 1], inplace =True)\n",
    "cancer_df['label'] = cancer_df.diagnosis\n",
    "cancer_df.drop([cancer_df.columns[0], cancer_df.columns[1], cancer_df.columns[32]], axis = 1, inplace = True)"
   ]
  },
  {
   "cell_type": "markdown",
   "metadata": {},
   "source": [
    "## Preparing Data For Model"
   ]
  },
  {
   "cell_type": "code",
   "execution_count": 3,
   "metadata": {},
   "outputs": [],
   "source": [
    "cancer_data = cancer_df.iloc[:,0:1].values\n",
    "cancer_labels = cancer_df.iloc[:,-1].values\n",
    "cancer_data = cancer_data.reshape(cancer_data.shape[0],1)\n",
    "cancer_labels = cancer_labels.reshape(cancer_labels.shape[0],1)"
   ]
  },
  {
   "cell_type": "markdown",
   "metadata": {},
   "source": [
    "### Train Test Spliting"
   ]
  },
  {
   "cell_type": "code",
   "execution_count": 4,
   "metadata": {},
   "outputs": [],
   "source": [
    "train_cancer, test_cancer, train_labels, test_labels = train_test_split(cancer_data,cancer_labels,test_size = 0.25)"
   ]
  },
  {
   "cell_type": "markdown",
   "metadata": {},
   "source": [
    "## Fitting the Model over Data"
   ]
  },
  {
   "cell_type": "code",
   "execution_count": 5,
   "metadata": {},
   "outputs": [
    {
     "name": "stderr",
     "output_type": "stream",
     "text": [
      "/home/daku/anaconda3/lib/python3.7/site-packages/ipykernel_launcher.py:2: DataConversionWarning: A column-vector y was passed when a 1d array was expected. Please change the shape of y to (n_samples,), for example using ravel().\n",
      "  \n"
     ]
    },
    {
     "data": {
      "text/plain": [
       "RandomForestRegressor(bootstrap=True, ccp_alpha=0.0, criterion='mse',\n",
       "                      max_depth=None, max_features='auto', max_leaf_nodes=None,\n",
       "                      max_samples=None, min_impurity_decrease=0.0,\n",
       "                      min_impurity_split=None, min_samples_leaf=1,\n",
       "                      min_samples_split=2, min_weight_fraction_leaf=0.0,\n",
       "                      n_estimators=100, n_jobs=None, oob_score=False,\n",
       "                      random_state=None, verbose=0, warm_start=False)"
      ]
     },
     "execution_count": 5,
     "metadata": {},
     "output_type": "execute_result"
    }
   ],
   "source": [
    "Forest_cancer=RandomForestRegressor()\n",
    "Forest_cancer.fit(train_cancer,train_labels)"
   ]
  },
  {
   "cell_type": "markdown",
   "metadata": {},
   "source": [
    "### Predicting the result"
   ]
  },
  {
   "cell_type": "markdown",
   "metadata": {},
   "source": [
    "#### Training Data"
   ]
  },
  {
   "cell_type": "code",
   "execution_count": 6,
   "metadata": {},
   "outputs": [
    {
     "name": "stdout",
     "output_type": "stream",
     "text": [
      "----------------------------------------------------------\n",
      "\n",
      "Mean Square Error Training Data ; 0.028556359945016957\n",
      "Mean Absolute Error Training Data : 0.08031147999105745\n",
      "Score Value of Training Data : 100.0\n",
      "\n",
      "----------------------------------------------------------\n"
     ]
    }
   ],
   "source": [
    "train_predict = Forest_cancer.predict(train_cancer)\n",
    "train_mse = mean_squared_error(train_labels,train_predict)\n",
    "train_mae = mean_absolute_error(train_labels,train_predict)\n",
    "train_score = -(round(Forest_cancer.score(train_labels,train_predict)))*100\n",
    "\n",
    "print(\"----------------------------------------------------------\\n\")\n",
    "print(\"Mean Square Error Training Data ; {}\\nMean Absolute Error Training Data : {}\\nScore Value of Training Data : {}\".format(train_mse,train_mae,train_score))\n",
    "print(\"\\n----------------------------------------------------------\")"
   ]
  },
  {
   "cell_type": "markdown",
   "metadata": {},
   "source": [
    "#### Testing Data"
   ]
  },
  {
   "cell_type": "code",
   "execution_count": 7,
   "metadata": {},
   "outputs": [
    {
     "name": "stdout",
     "output_type": "stream",
     "text": [
      "----------------------------------------------------------\n",
      "\n",
      "Mean Square Error Testing Data ; 0.11369514846683298\n",
      "Mean Absolute Error Testing Data : 0.16399422799422797\n",
      "Score Value of Testing Data : 100.0\n",
      "\n",
      "----------------------------------------------------------\n"
     ]
    }
   ],
   "source": [
    "test_predict = Forest_cancer.predict(test_cancer)\n",
    "test_mse = mean_squared_error(test_labels,test_predict)\n",
    "test_mae = mean_absolute_error(test_labels,test_predict)\n",
    "test_score = -(round(Forest_cancer.score(test_labels,test_predict)))*100\n",
    "\n",
    "print(\"----------------------------------------------------------\\n\")\n",
    "print(\"Mean Square Error Testing Data ; {}\\nMean Absolute Error Testing Data : {}\\nScore Value of Testing Data : {}\".format(test_mse,test_mae,test_score))\n",
    "print(\"\\n----------------------------------------------------------\")"
   ]
  },
  {
   "cell_type": "markdown",
   "metadata": {},
   "source": [
    "# ------------------------------------------------------------------------------------------------------------------------------------------------------------\n",
    "## Plotting the regression line"
   ]
  },
  {
   "cell_type": "markdown",
   "metadata": {},
   "source": [
    "#### Training Data"
   ]
  },
  {
   "cell_type": "code",
   "execution_count": 8,
   "metadata": {},
   "outputs": [
    {
     "data": {
      "image/png": "[encoded data removed]",
      "text/plain": [
       "<Figure size 432x288 with 1 Axes>"
      ]
     },
     "metadata": {
      "needs_background": "light"
     },
     "output_type": "display_data"
    }
   ],
   "source": [
    "X_grid = np.arange(min(train_cancer), max(train_cancer), 0.01)\n",
    "X_grid = X_grid.reshape((len(X_grid), 1))\n",
    "plt.scatter(train_cancer, train_labels, color = 'red')\n",
    "plt.plot(X_grid, Forest_cancer.predict(X_grid), color = 'blue')\n",
    "plt.title('True or False (Random Forest Regression)')\n",
    "plt.ylabel('labels')\n",
    "plt.xlabel('Radius')\n",
    "plt.show()"
   ]
  },
  {
   "cell_type": "markdown",
   "metadata": {},
   "source": [
    "#### Testing Data"
   ]
  },
  {
   "cell_type": "code",
   "execution_count": 9,
   "metadata": {},
   "outputs": [
    {
     "data": {
      "image/png": "[encoded data removed]",
      "text/plain": [
       "<Figure size 432x288 with 1 Axes>"
      ]
     },
     "metadata": {
      "needs_background": "light"
     },
     "output_type": "display_data"
    }
   ],
   "source": [
    "X_grid = np.arange(min(test_cancer), max(test_cancer), 0.01)\n",
    "X_grid = X_grid.reshape((len(X_grid), 1))\n",
    "plt.scatter(test_cancer, test_labels, color = 'red')\n",
    "plt.plot(X_grid, Forest_cancer.predict(X_grid), color = 'blue')\n",
    "plt.title('True or False (Random Forest Regression)')\n",
    "plt.ylabel('labels')\n",
    "plt.xlabel('Radius')\n",
    "plt.show()"
   ]
  }
 ],
 "metadata": {
  "kernelspec": {
   "display_name": "Python 3",
   "language": "python",
   "name": "python3"
  },
  "language_info": {
   "codemirror_mode": {
    "name": "ipython",
    "version": 3
   },
   "file_extension": ".py",
   "mimetype": "text/x-python",
   "name": "python",
   "nbconvert_exporter": "python",
   "pygments_lexer": "ipython3",
   "version": "3.7.6"
  }
 },
 "nbformat": 4,
 "nbformat_minor": 4
}
