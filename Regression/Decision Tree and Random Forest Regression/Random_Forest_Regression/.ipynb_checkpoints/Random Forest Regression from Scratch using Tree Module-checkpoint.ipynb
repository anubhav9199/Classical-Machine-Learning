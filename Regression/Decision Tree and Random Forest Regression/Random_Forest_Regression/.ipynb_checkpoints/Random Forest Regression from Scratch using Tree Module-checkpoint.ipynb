{
 "cells": [
  {
   "cell_type": "markdown",
   "metadata": {},
   "source": [
    "# Random Forest Regression from Scratch using Tree Function\n",
    "Every decision tree has high variance, but when we combine all of them together in parallel then the resultant variance is low as each decision tree gets perfectly trained on that particular sample data and hence the output doesn’t depend on one decision tree but multiple decision trees. In the case of a classification problem, the final output is taken by using the majority voting classifier. In the case of a regression problem, the final output is the mean of all the outputs.<br>\n",
    "A Random Forest is an ensemble technique capable of performing both regression and classification tasks with the use of multiple decision trees and a technique called Bootstrap and Aggregation, commonly known as bagging. The basic idea behind this is to combine multiple decision trees in determining the final output rather than relying on individual decision trees.<br>\n",
    "Random Forest work on three functions :-<br>\n",
    "(1) Boot Strapping<br>\n",
    "(2) Random Subspace<br>\n",
    "(3) Prediction\n",
    "# ----------------------------------------------------------------------------------------------------------------------------------------------------------\n",
    "## Importing Libraries\n",
    "The Random Forest Algorithm is use from tree module fully Created By Anubhav Sharma"
   ]
  },
  {
   "cell_type": "code",
   "execution_count": 1,
   "metadata": {},
   "outputs": [],
   "source": [
    "import numpy as np\n",
    "import pandas as pd\n",
    "import matplotlib.pyplot as plt\n",
    "\n",
    "from Tree.RandomForestFunction import RandomForestAlgorithm, RandomForestPrediction ,RandomForestClassification\n",
    "from Tree.HelperFunction import calculate_accuracy, train_test_split"
   ]
  },
  {
   "cell_type": "markdown",
   "metadata": {},
   "source": [
    "# Dataset 1 (Continuous)"
   ]
  },
  {
   "cell_type": "markdown",
   "metadata": {},
   "source": [
    "# ----------------------------------------------------------------------------------------------------------\n",
    "### Calling Data\n",
    "Data is call for work. The Columns are selected here is according to the BREAST CANCER DATASET from WINCONSIN Hospital Easily find on Kaggle(www.kaggle.com).<br>\n",
    "Creating Dataset from original columns from the dataset so that you won't face any trouble regarding the dataset. I use Breast Cancer Dataset to train model and predict whether the person is having cancer or not."
   ]
  },
  {
   "cell_type": "code",
   "execution_count": 2,
   "metadata": {},
   "outputs": [],
   "source": [
    "cancer_data = pd.read_csv('./Dataset/Breast Cancer Dataset/Breast_Cancer_Data.csv')\n",
    "\n",
    "cancer_data['diagnosis'].replace(['B', 'M'], [0, 1], inplace = True)\n",
    "cancer_data['label'] = cancer_data.diagnosis\n",
    "\n",
    "cancer_df = {'radius_mean':[], 'texture_mean':[], 'perimeter_mean':[], 'label':[]}\n",
    "cancer_df['radius_mean'] = cancer_data.radius_mean\n",
    "cancer_df['texture_mean'] = cancer_data.texture_mean\n",
    "cancer_df['perimeter_mean'] = cancer_data.perimeter_mean\n",
    "cancer_df['label'] = cancer_data.label\n",
    "\n",
    "cancer_df = pd.DataFrame(cancer_df)"
   ]
  },
  {
   "cell_type": "markdown",
   "metadata": {},
   "source": [
    "### Train Test Split"
   ]
  },
  {
   "cell_type": "code",
   "execution_count": 3,
   "metadata": {},
   "outputs": [],
   "source": [
    "train_cancer, test_cancer = train_test_split(cancer_df,test_size=0.25)"
   ]
  },
  {
   "cell_type": "markdown",
   "metadata": {},
   "source": [
    "### Random Forest Algorithm\n",
    "Random Forest Algorithm from Random forest function created by Anubhav Sharma"
   ]
  },
  {
   "cell_type": "code",
   "execution_count": 4,
   "metadata": {},
   "outputs": [],
   "source": [
    "cancer_forest = RandomForestAlgorithm(train_cancer,n_trees=4,mltask='regression',n_bootstrap=350,n_feature=4,dt_max_depth=4)"
   ]
  },
  {
   "cell_type": "markdown",
   "metadata": {},
   "source": [
    "### Accuracy Prediction\n",
    "#### Training Data"
   ]
  },
  {
   "cell_type": "code",
   "execution_count": 5,
   "metadata": {},
   "outputs": [
    {
     "name": "stdout",
     "output_type": "stream",
     "text": [
      "Accuracy over Breast Cancer Testing Data : 0.7353629976580797\n"
     ]
    }
   ],
   "source": [
    "prediction_cancer_train = RandomForestPrediction(train_cancer,cancer_forest)\n",
    "accuracy_cancer_train = calculate_accuracy(prediction_cancer_train,train_cancer.label)\n",
    "print(\"Accuracy over Breast Cancer Testing Data : {}\".format(accuracy_cancer_train))"
   ]
  },
  {
   "cell_type": "markdown",
   "metadata": {},
   "source": [
    "#### Testing Data"
   ]
  },
  {
   "cell_type": "code",
   "execution_count": 6,
   "metadata": {},
   "outputs": [
    {
     "name": "stdout",
     "output_type": "stream",
     "text": [
      "Accuracy over Breast Cancer Testing Data : 0.676056338028169\n"
     ]
    }
   ],
   "source": [
    "prediction_cancer_test = RandomForestPrediction(test_cancer,cancer_forest)\n",
    "accuracy_cancer_test = calculate_accuracy(prediction_cancer_test,test_cancer.label)\n",
    "print(\"Accuracy over Breast Cancer Testing Data : {}\".format(accuracy_cancer_test))"
   ]
  },
  {
   "cell_type": "markdown",
   "metadata": {},
   "source": [
    "# DataSet 2 (Catagorical Data)"
   ]
  },
  {
   "cell_type": "markdown",
   "metadata": {},
   "source": [
    "# ----------------------------------------------------------------------------------------------------------\n",
    "### Calling Data\n",
    "Data is call for work. The Columns are selected here is according to the TITANIC DATASET. Easily find on Kaggle(www.kaggle.com).<br>\n",
    "Removing unnecessary columns from the dataset so that you won't face any trouble regarding the dataset. I use Titanic Dataset to train model and predict whether the person is having cancer or not."
   ]
  },
  {
   "cell_type": "code",
   "execution_count": 7,
   "metadata": {},
   "outputs": [],
   "source": [
    "titanic_df = pd.read_csv('./Dataset/Titanic Dataset/train.csv')\n",
    "titanic_df['label'] = titanic_df.Survived\n",
    "\n",
    "titanic_df.drop(['PassengerId','Survived','Name','Ticket','Cabin','Embarked'],axis=1,inplace=True)\n",
    "\n",
    "median_age = titanic_df.Age.median()\n",
    "titanic_df = titanic_df.fillna({'Age' : median_age})"
   ]
  },
  {
   "cell_type": "markdown",
   "metadata": {},
   "source": [
    "### Train Test Split"
   ]
  },
  {
   "cell_type": "code",
   "execution_count": 8,
   "metadata": {},
   "outputs": [],
   "source": [
    "train_titanic, test_titanic = train_test_split(titanic_df,test_size=0.25)"
   ]
  },
  {
   "cell_type": "markdown",
   "metadata": {},
   "source": [
    "### Random Forest Algorithm\n",
    "Random Forest Algorithm from Random forest function created by Anubhav Sharma"
   ]
  },
  {
   "cell_type": "code",
   "execution_count": 9,
   "metadata": {},
   "outputs": [],
   "source": [
    "titanic_forest = RandomForestAlgorithm(train_titanic,n_trees=10,mltask='regression',n_bootstrap=500,n_feature=4,dt_max_depth=10)"
   ]
  },
  {
   "cell_type": "markdown",
   "metadata": {},
   "source": [
    "### Accuracy Prediction\n",
    "#### Training Data"
   ]
  },
  {
   "cell_type": "code",
   "execution_count": 10,
   "metadata": {},
   "outputs": [
    {
     "name": "stdout",
     "output_type": "stream",
     "text": [
      "Accuracy over Titanic Training Data : 0.9266467065868264\n"
     ]
    }
   ],
   "source": [
    "prediction_titanic_train = RandomForestPrediction(train_titanic,titanic_forest)\n",
    "accuracy_titanic_train = calculate_accuracy(prediction_titanic_train,train_titanic.label)\n",
    "print(\"Accuracy over Titanic Training Data : {}\".format(accuracy_titanic_train))"
   ]
  },
  {
   "cell_type": "markdown",
   "metadata": {},
   "source": [
    "#### Testing Data"
   ]
  },
  {
   "cell_type": "code",
   "execution_count": 11,
   "metadata": {},
   "outputs": [
    {
     "name": "stdout",
     "output_type": "stream",
     "text": [
      "Accuracy over Titanic Testing Data : 0.7892376681614349\n"
     ]
    }
   ],
   "source": [
    "prediction_titanic_test = RandomForestPrediction(test_titanic,titanic_forest)\n",
    "accuracy_titanic_test = calculate_accuracy(prediction_titanic_test,test_titanic.label)\n",
    "print(\"Accuracy over Titanic Testing Data : {}\".format(accuracy_titanic_test))"
   ]
  }
 ],
 "metadata": {
  "kernelspec": {
   "display_name": "Python 3",
   "language": "python",
   "name": "python3"
  },
  "language_info": {
   "codemirror_mode": {
    "name": "ipython",
    "version": 3
   },
   "file_extension": ".py",
   "mimetype": "text/x-python",
   "name": "python",
   "nbconvert_exporter": "python",
   "pygments_lexer": "ipython3",
   "version": "3.7.6"
  }
 },
 "nbformat": 4,
 "nbformat_minor": 4
}
