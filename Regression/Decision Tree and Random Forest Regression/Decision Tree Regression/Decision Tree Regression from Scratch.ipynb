{
 "cells": [
  {
   "cell_type": "markdown",
   "metadata": {},
   "source": [
    "# Decision tree regression from scratch over Breast Cancer Dataset\n",
    "Decision tree builds regression or classification models in the form of a tree structure. It breaks down a dataset into smaller and smaller subsets while at the same time an associated decision tree is incrementally developed. The final result is a tree with decision nodes and leaf nodes. A decision node (e.g., Cancer) has two or more branches (e.g., Benign and Malignant), each representing values for the attribute tested. Leaf node (e.g., Radius Mean,Texture Mean) represents a decision on the numerical target. The topmost decision node in a tree which corresponds to the best predictor called root node. Decision trees can handle both categorical and numerical data.\n",
    "# ----------------------------------------------------------------------------------------------------------\n",
    "## Importing Libraries"
   ]
  },
  {
   "cell_type": "code",
   "execution_count": 1,
   "metadata": {},
   "outputs": [],
   "source": [
    "import numpy as np\n",
    "import pandas as pd\n",
    "import matplotlib.pyplot as plt\n",
    "from IPython.display import clear_output"
   ]
  },
  {
   "cell_type": "markdown",
   "metadata": {},
   "source": [
    "# ----------------------------------------------------------------------------------------------------------\n",
    "## Decision Tree Regression\n",
    "The Regression class is made for  the regression of the data usin decision tree. This is a blue print class which contain all the function for the use to use and interact with easily.\n",
    "#### Fit Function\n",
    "#### Predict Function\n",
    "#### Mean Square Error :\n",
    "#### Mean Absolute Error"
   ]
  },
  {
   "cell_type": "code",
   "execution_count": 2,
   "metadata": {},
   "outputs": [],
   "source": [
    "class Decision_tree_regression:\n",
    "    def fit(self,training_data,training_label,min_leaf=5):\n",
    "        print(\"\\nTraining Start\\n\")\n",
    "        self.dtree = Node(training_data,training_label,np.array(np.arange(len(training_label))),min_leaf)\n",
    "        print(\"\\nTraining Finish\\n\")\n",
    "        return self\n",
    "    \n",
    "    def predict(self,training_data):\n",
    "        return self.dtree.predict(training_data.values)\n",
    "    \n",
    "    \n",
    "    def mse(self,actual,predicted):\n",
    "        return self.dtree.mse(actual,predicted)\n",
    "    \n",
    "    # Calculate mean absolute error\n",
    "    def mae_metric(self,actual, predicted):\n",
    "        return self.dtree.mae_metric(actual,predicted)"
   ]
  },
  {
   "cell_type": "markdown",
   "metadata": {},
   "source": [
    "# ----------------------------------------------------------------------------------------------------------\n",
    "## Node Class\n",
    "Node Class is made to grow the tree. we use recursive nature of the function to grow tree. The class has a function for finding the split value. through the split value we know that how the tree is grow and converse to predict value\n",
    "### ------------------------------------------------------------------------------------------------------------------------------------------------------\n",
    "### Fit Function\n",
    "Fit Functin is the main regression function. It use to grow tree and do the regression by dividing the feature over a split value.\n",
    "### ------------------------------------------------------------------------------------------------------------------------------------------------------\n",
    "### Predict Function\n",
    "Predict Function return the predicted value from the regressor model. \n",
    "### ------------------------------------------------------------------------------------------------------------------------------------------------------\n",
    "### Split Value Function\n",
    "Split Value function is the function of classifier(Gini Impurity Function). But Unlike Gini function it does not compare value it only take the average of the value and split the feature accordingly.\n",
    "##### Formula :\n",
    "$$\\sum{\\mathbf{rhs}} < \\mathbf{leaf}_\\mathbf{min}$$ \n",
    "$$or$$\n",
    "$$\\sum{\\mathbf{lhs}} < \\mathbf{leaf}_\\mathbf{max}$$\n",
    "$$\\mathbf{S}_{\\mathbf{i}}{(Y)} = \\sqrt{\\frac{\\sum\\left(\\mathbf{Y}_{\\mathbf{i}} - \\mu\\right)^{\\mathbf{2}}}{\\mathbf{N}}}$$\n",
    "<br>\n",
    "$$here$$\n",
    "$$\\mathbf{S}_{\\mathbf{i}}{(Y)} = \\mathbf{Score}$$\n",
    "### ------------------------------------------------------------------------------------------------------------------------------------------------------\n",
    "### Mean Square Error :\n",
    "Mean Square Error (MSE). It is the standard deviation of how far from the regression line data points are. In other words, it tells you how concentrated the data is around the line of best fit.\n",
    "##### Formula :\n",
    "$$\\mathbf{MSE} = \\left(\\frac{\\mathbf{1}}{\\mathbf{m}}\\right)\\sum_{\\mathbf{i=0}}^{\\mathbf{m}}\\left(\\mathbf{y}^{(\\mathbf{i})}-\\mathbf{h}\\left(\\mathbf{x}^{(\\mathbf{i})}\\right)^{\\mathbf{2}}\\right)$$\n",
    "### ------------------------------------------------------------------------------------------------------------------------------------------------------\n",
    "### Mean Absolute Error :\n",
    "Mean Absolute Error (MAE). It is the absolute standard deviation of how far from the regression line data points are."
   ]
  },
  {
   "cell_type": "code",
   "execution_count": 3,
   "metadata": {},
   "outputs": [],
   "source": [
    "class Node:\n",
    "\n",
    "    def __init__(self, x, y, idxs, min_leaf=5):\n",
    "        print(\"Training......!!!!\")\n",
    "        clear_output(wait=True)\n",
    "        self.x = x \n",
    "        self.y = y\n",
    "        self.idxs = idxs \n",
    "        self.min_leaf = min_leaf\n",
    "        self.row_count = len(idxs)\n",
    "        self.col_count = x.shape[1]\n",
    "        self.val = np.mean(y[idxs])\n",
    "        self.score = float('inf')\n",
    "        self.find_varsplit()\n",
    "    \n",
    "    def find_varsplit(self):\n",
    "        for c in range(self.col_count): self.find_better_split(c)\n",
    "        if self.is_leaf: return\n",
    "        x = self.split_col\n",
    "        lhs = np.nonzero(x <= self.split)[0]\n",
    "        rhs = np.nonzero(x > self.split)[0]\n",
    "        self.lhs = Node(self.x, self.y, self.idxs[lhs], self.min_leaf)\n",
    "        self.rhs = Node(self.x, self.y, self.idxs[rhs], self.min_leaf)\n",
    "    \n",
    "    def find_better_split(self, var_idx):\n",
    "        x = self.x.values[self.idxs, var_idx]\n",
    "\n",
    "        for r in range(self.row_count):\n",
    "            lhs = x <= x[r]\n",
    "            rhs = x > x[r]\n",
    "            if rhs.sum() < self.min_leaf or lhs.sum() < self.min_leaf: \n",
    "                continue\n",
    "\n",
    "            curr_score = self.find_score(lhs, rhs)\n",
    "            if curr_score < self.score: \n",
    "                self.var_idx = var_idx\n",
    "                self.score = curr_score\n",
    "                self.split = x[r]\n",
    "\n",
    "    def find_score(self, lhs, rhs):\n",
    "        y = self.y[self.idxs]\n",
    "        lhs_std = y[lhs].std()\n",
    "        rhs_std = y[rhs].std()\n",
    "        return lhs_std * lhs.sum() + rhs_std * rhs.sum()\n",
    "    \n",
    "    @property\n",
    "    def split_col(self): return self.x.values[self.idxs,self.var_idx]\n",
    "\n",
    "    @property\n",
    "    def is_leaf(self): return self.score == float('inf')\n",
    "    \n",
    "    def predict(self, x):\n",
    "        return np.array([self.predict_row(xi) for xi in x])\n",
    "\n",
    "    def predict_row(self, xi):\n",
    "        if self.is_leaf: return self.val\n",
    "        node = self.lhs if xi[self.var_idx] <= self.split else self.rhs\n",
    "        return node.predict_row(xi)\n",
    "    \n",
    "    def mse(self,actual, predicted):\n",
    "        sum_error = 0.0\n",
    "        for i in range(len(actual)):\n",
    "            prediction_error = predicted[i] - actual[i]\n",
    "            sum_error += (prediction_error ** 2)\n",
    "        mean_error = (sum_error / float(len(actual)))\n",
    "        return mean_error\n",
    "    \n",
    "    # Calculate mean absolute error\n",
    "    def mae_metric(self,actual, predicted):\n",
    "        sum_error = 0.0\n",
    "        for i in range(len(actual)):\n",
    "            sum_error += abs(predicted[i] - actual[i])\n",
    "        return sum_error / float(len(actual))"
   ]
  },
  {
   "cell_type": "markdown",
   "metadata": {},
   "source": [
    "# ----------------------------------------------------------------------------------------------------------\n",
    "## Mean Square & Mean Absolute Error\n",
    "Function returns the value error in the training of the model while predicting the target variable.<br>\n",
    "##### Mean Square Error :\n",
    "Mean Square Error (MSE). It is the standard deviation of how far from the regression line data points are. In other words, it tells you how concentrated the data is around the line of best fit.\n",
    "##### Mean Absolute Error :\n",
    "Mean Absolute Error (MAE). It is the absolute standard deviation of how far from the regression line data points are."
   ]
  },
  {
   "cell_type": "code",
   "execution_count": 4,
   "metadata": {},
   "outputs": [],
   "source": [
    "def mean_square_error(model,test_data,test_label):\n",
    "    predict = model.predict(test_data)\n",
    "    mse = model.mse(test_label,predict)\n",
    "    mae = model.mae_metric(test_label,predict)\n",
    "    return mse,mae"
   ]
  },
  {
   "cell_type": "markdown",
   "metadata": {},
   "source": [
    "# ----------------------------------------------------------------------------------------------------------\n",
    "### Calling Data\n",
    "Data is call for work. The Columns are selected here is according to the BREAST CANCER DATASET from WINCONSIN Hospital Easily find on Kaggle(www.kaggle.com)."
   ]
  },
  {
   "cell_type": "code",
   "execution_count": 5,
   "metadata": {},
   "outputs": [],
   "source": [
    "data = pd.read_csv('Breast_Cancer_Data.csv')"
   ]
  },
  {
   "cell_type": "markdown",
   "metadata": {},
   "source": [
    "Removing unnecessary columns from the dataset so that you won't face any trouble regarding the dataset. I use Breast Cancer Dataset to train model and predict whether the person is having cancer or not."
   ]
  },
  {
   "cell_type": "code",
   "execution_count": 6,
   "metadata": {},
   "outputs": [],
   "source": [
    "data.drop([data.columns[0],data.columns[32]],axis=1,inplace=True)\n",
    "data.replace(['B','M'],[0,1],inplace=True)"
   ]
  },
  {
   "cell_type": "markdown",
   "metadata": {},
   "source": [
    "Preprocessing Data"
   ]
  },
  {
   "cell_type": "code",
   "execution_count": 7,
   "metadata": {},
   "outputs": [],
   "source": [
    "x = data.iloc[:,1:2]\n",
    "y = data['diagnosis']"
   ]
  },
  {
   "cell_type": "markdown",
   "metadata": {},
   "source": [
    "### Regression Fitting"
   ]
  },
  {
   "cell_type": "code",
   "execution_count": 8,
   "metadata": {},
   "outputs": [
    {
     "name": "stdout",
     "output_type": "stream",
     "text": [
      "\n",
      "Training Finish\n",
      "\n"
     ]
    },
    {
     "data": {
      "text/plain": [
       "<__main__.Decision_tree_regression at 0x7f7c2c0c3990>"
      ]
     },
     "execution_count": 8,
     "metadata": {},
     "output_type": "execute_result"
    }
   ],
   "source": [
    "regressor = Decision_tree_regression()\n",
    "regressor.fit(x,y)"
   ]
  },
  {
   "cell_type": "markdown",
   "metadata": {},
   "source": [
    "### Mean Square & Mean Absolute Error"
   ]
  },
  {
   "cell_type": "code",
   "execution_count": 9,
   "metadata": {},
   "outputs": [
    {
     "name": "stdout",
     "output_type": "stream",
     "text": [
      "Mean Square Error in Data : 0.06727829386001616\n",
      "Mean Absolute Error in Data : 0.13455658772003246\n"
     ]
    }
   ],
   "source": [
    "mse,mae = mean_square_error(regressor,x,y)\n",
    "print(\"Mean Square Error in Data : {}\\nMean Absolute Error in Data : {}\".format(mse,mae))"
   ]
  },
  {
   "cell_type": "markdown",
   "metadata": {},
   "source": [
    "### Ploting Regression Curve"
   ]
  },
  {
   "cell_type": "code",
   "execution_count": 10,
   "metadata": {
    "scrolled": true
   },
   "outputs": [
    {
     "data": {
      "image/png": "[encoded data removed]",
      "text/plain": [
       "<Figure size 432x288 with 1 Axes>"
      ]
     },
     "metadata": {
      "needs_background": "light"
     },
     "output_type": "display_data"
    }
   ],
   "source": [
    "plt.scatter(x,y,color='red')\n",
    "plt.plot(x,regressor.predict(x),color='blue')\n",
    "plt.title('Decision Tree Regression')\n",
    "plt.xlabel('Feature')\n",
    "plt.ylabel('Cancer')\n",
    "plt.show()"
   ]
  }
 ],
 "metadata": {
  "kernelspec": {
   "display_name": "Python 3",
   "language": "python",
   "name": "python3"
  },
  "language_info": {
   "codemirror_mode": {
    "name": "ipython",
    "version": 3
   },
   "file_extension": ".py",
   "mimetype": "text/x-python",
   "name": "python",
   "nbconvert_exporter": "python",
   "pygments_lexer": "ipython3",
   "version": "3.7.6"
  }
 },
 "nbformat": 4,
 "nbformat_minor": 4
}
