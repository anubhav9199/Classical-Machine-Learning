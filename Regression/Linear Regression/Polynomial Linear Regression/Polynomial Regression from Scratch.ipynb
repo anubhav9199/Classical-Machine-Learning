{
 "cells": [
  {
   "cell_type": "markdown",
   "metadata": {},
   "source": [
    "# Polynomial Linear Regression from Scratch on Breast Cancer Data\n",
    "Linear regression is a algorithm which is starting level algorithm for machine learning prediction. This code contains only about how we can fit a linear model over user given dataset and also to get a good output result out of it. The code is fully moduler so that to keep in mind about the use of the functions in other programs also.\n",
    "### Importing libraries"
   ]
  },
  {
   "cell_type": "code",
   "execution_count": 1,
   "metadata": {},
   "outputs": [],
   "source": [
    "import pandas as pd\n",
    "import numpy as np\n",
    "import matplotlib.pyplot as plt"
   ]
  },
  {
   "cell_type": "markdown",
   "metadata": {},
   "source": [
    "### Calling Data\n",
    "Data is call for work. The Columns are selected here is according to the BREAST CANCER DATASET from WINCONSIN Hospital Easily find on Kaggle(www.kaggle.com)."
   ]
  },
  {
   "cell_type": "code",
   "execution_count": 2,
   "metadata": {},
   "outputs": [],
   "source": [
    "# read the data\n",
    "data = pd.read_csv('Breast_Cancer_Data.csv')"
   ]
  },
  {
   "cell_type": "markdown",
   "metadata": {},
   "source": [
    "Removing unnecessary columns from the dataset so that you won't face any trouble regarding the dataset. I use Breast Cancer Dataset to train model and predict whether the person is having cancer or not."
   ]
  },
  {
   "cell_type": "code",
   "execution_count": 3,
   "metadata": {},
   "outputs": [
    {
     "data": {
      "text/html": [
       "<div>\n",
       "<style scoped>\n",
       "    .dataframe tbody tr th:only-of-type {\n",
       "        vertical-align: middle;\n",
       "    }\n",
       "\n",
       "    .dataframe tbody tr th {\n",
       "        vertical-align: top;\n",
       "    }\n",
       "\n",
       "    .dataframe thead th {\n",
       "        text-align: right;\n",
       "    }\n",
       "</style>\n",
       "<table border=\"1\" class=\"dataframe\">\n",
       "  <thead>\n",
       "    <tr style=\"text-align: right;\">\n",
       "      <th></th>\n",
       "      <th>diagnosis</th>\n",
       "      <th>radius_mean</th>\n",
       "      <th>texture_mean</th>\n",
       "      <th>perimeter_mean</th>\n",
       "      <th>area_mean</th>\n",
       "      <th>smoothness_mean</th>\n",
       "      <th>compactness_mean</th>\n",
       "      <th>concavity_mean</th>\n",
       "      <th>concave points_mean</th>\n",
       "      <th>symmetry_mean</th>\n",
       "      <th>...</th>\n",
       "      <th>radius_worst</th>\n",
       "      <th>texture_worst</th>\n",
       "      <th>perimeter_worst</th>\n",
       "      <th>area_worst</th>\n",
       "      <th>smoothness_worst</th>\n",
       "      <th>compactness_worst</th>\n",
       "      <th>concavity_worst</th>\n",
       "      <th>concave points_worst</th>\n",
       "      <th>symmetry_worst</th>\n",
       "      <th>fractal_dimension_worst</th>\n",
       "    </tr>\n",
       "  </thead>\n",
       "  <tbody>\n",
       "    <tr>\n",
       "      <th>0</th>\n",
       "      <td>1</td>\n",
       "      <td>17.99</td>\n",
       "      <td>10.38</td>\n",
       "      <td>122.80</td>\n",
       "      <td>1001.0</td>\n",
       "      <td>0.11840</td>\n",
       "      <td>0.27760</td>\n",
       "      <td>0.3001</td>\n",
       "      <td>0.14710</td>\n",
       "      <td>0.2419</td>\n",
       "      <td>...</td>\n",
       "      <td>25.38</td>\n",
       "      <td>17.33</td>\n",
       "      <td>184.60</td>\n",
       "      <td>2019.0</td>\n",
       "      <td>0.1622</td>\n",
       "      <td>0.6656</td>\n",
       "      <td>0.7119</td>\n",
       "      <td>0.2654</td>\n",
       "      <td>0.4601</td>\n",
       "      <td>0.11890</td>\n",
       "    </tr>\n",
       "    <tr>\n",
       "      <th>1</th>\n",
       "      <td>1</td>\n",
       "      <td>20.57</td>\n",
       "      <td>17.77</td>\n",
       "      <td>132.90</td>\n",
       "      <td>1326.0</td>\n",
       "      <td>0.08474</td>\n",
       "      <td>0.07864</td>\n",
       "      <td>0.0869</td>\n",
       "      <td>0.07017</td>\n",
       "      <td>0.1812</td>\n",
       "      <td>...</td>\n",
       "      <td>24.99</td>\n",
       "      <td>23.41</td>\n",
       "      <td>158.80</td>\n",
       "      <td>1956.0</td>\n",
       "      <td>0.1238</td>\n",
       "      <td>0.1866</td>\n",
       "      <td>0.2416</td>\n",
       "      <td>0.1860</td>\n",
       "      <td>0.2750</td>\n",
       "      <td>0.08902</td>\n",
       "    </tr>\n",
       "    <tr>\n",
       "      <th>2</th>\n",
       "      <td>1</td>\n",
       "      <td>19.69</td>\n",
       "      <td>21.25</td>\n",
       "      <td>130.00</td>\n",
       "      <td>1203.0</td>\n",
       "      <td>0.10960</td>\n",
       "      <td>0.15990</td>\n",
       "      <td>0.1974</td>\n",
       "      <td>0.12790</td>\n",
       "      <td>0.2069</td>\n",
       "      <td>...</td>\n",
       "      <td>23.57</td>\n",
       "      <td>25.53</td>\n",
       "      <td>152.50</td>\n",
       "      <td>1709.0</td>\n",
       "      <td>0.1444</td>\n",
       "      <td>0.4245</td>\n",
       "      <td>0.4504</td>\n",
       "      <td>0.2430</td>\n",
       "      <td>0.3613</td>\n",
       "      <td>0.08758</td>\n",
       "    </tr>\n",
       "    <tr>\n",
       "      <th>3</th>\n",
       "      <td>1</td>\n",
       "      <td>11.42</td>\n",
       "      <td>20.38</td>\n",
       "      <td>77.58</td>\n",
       "      <td>386.1</td>\n",
       "      <td>0.14250</td>\n",
       "      <td>0.28390</td>\n",
       "      <td>0.2414</td>\n",
       "      <td>0.10520</td>\n",
       "      <td>0.2597</td>\n",
       "      <td>...</td>\n",
       "      <td>14.91</td>\n",
       "      <td>26.50</td>\n",
       "      <td>98.87</td>\n",
       "      <td>567.7</td>\n",
       "      <td>0.2098</td>\n",
       "      <td>0.8663</td>\n",
       "      <td>0.6869</td>\n",
       "      <td>0.2575</td>\n",
       "      <td>0.6638</td>\n",
       "      <td>0.17300</td>\n",
       "    </tr>\n",
       "    <tr>\n",
       "      <th>4</th>\n",
       "      <td>1</td>\n",
       "      <td>20.29</td>\n",
       "      <td>14.34</td>\n",
       "      <td>135.10</td>\n",
       "      <td>1297.0</td>\n",
       "      <td>0.10030</td>\n",
       "      <td>0.13280</td>\n",
       "      <td>0.1980</td>\n",
       "      <td>0.10430</td>\n",
       "      <td>0.1809</td>\n",
       "      <td>...</td>\n",
       "      <td>22.54</td>\n",
       "      <td>16.67</td>\n",
       "      <td>152.20</td>\n",
       "      <td>1575.0</td>\n",
       "      <td>0.1374</td>\n",
       "      <td>0.2050</td>\n",
       "      <td>0.4000</td>\n",
       "      <td>0.1625</td>\n",
       "      <td>0.2364</td>\n",
       "      <td>0.07678</td>\n",
       "    </tr>\n",
       "  </tbody>\n",
       "</table>\n",
       "<p>5 rows × 31 columns</p>\n",
       "</div>"
      ],
      "text/plain": [
       "   diagnosis  radius_mean  texture_mean  perimeter_mean  area_mean  \\\n",
       "0          1        17.99         10.38          122.80     1001.0   \n",
       "1          1        20.57         17.77          132.90     1326.0   \n",
       "2          1        19.69         21.25          130.00     1203.0   \n",
       "3          1        11.42         20.38           77.58      386.1   \n",
       "4          1        20.29         14.34          135.10     1297.0   \n",
       "\n",
       "   smoothness_mean  compactness_mean  concavity_mean  concave points_mean  \\\n",
       "0          0.11840           0.27760          0.3001              0.14710   \n",
       "1          0.08474           0.07864          0.0869              0.07017   \n",
       "2          0.10960           0.15990          0.1974              0.12790   \n",
       "3          0.14250           0.28390          0.2414              0.10520   \n",
       "4          0.10030           0.13280          0.1980              0.10430   \n",
       "\n",
       "   symmetry_mean  ...  radius_worst  texture_worst  perimeter_worst  \\\n",
       "0         0.2419  ...         25.38          17.33           184.60   \n",
       "1         0.1812  ...         24.99          23.41           158.80   \n",
       "2         0.2069  ...         23.57          25.53           152.50   \n",
       "3         0.2597  ...         14.91          26.50            98.87   \n",
       "4         0.1809  ...         22.54          16.67           152.20   \n",
       "\n",
       "   area_worst  smoothness_worst  compactness_worst  concavity_worst  \\\n",
       "0      2019.0            0.1622             0.6656           0.7119   \n",
       "1      1956.0            0.1238             0.1866           0.2416   \n",
       "2      1709.0            0.1444             0.4245           0.4504   \n",
       "3       567.7            0.2098             0.8663           0.6869   \n",
       "4      1575.0            0.1374             0.2050           0.4000   \n",
       "\n",
       "   concave points_worst  symmetry_worst  fractal_dimension_worst  \n",
       "0                0.2654          0.4601                  0.11890  \n",
       "1                0.1860          0.2750                  0.08902  \n",
       "2                0.2430          0.3613                  0.08758  \n",
       "3                0.2575          0.6638                  0.17300  \n",
       "4                0.1625          0.2364                  0.07678  \n",
       "\n",
       "[5 rows x 31 columns]"
      ]
     },
     "execution_count": 3,
     "metadata": {},
     "output_type": "execute_result"
    }
   ],
   "source": [
    "data.drop([data.columns[0],data.columns[32]],axis=1,inplace=True)\n",
    "data['diagnosis'].replace(to_replace=['B','M'],value=[0,1],inplace=True)\n",
    "data.head()"
   ]
  },
  {
   "cell_type": "markdown",
   "metadata": {},
   "source": [
    "### Preparing of data\n",
    "The data is divided in x and y terms by taking label as y and any of the feature as x.here i use perimeter mean in the training of linear model"
   ]
  },
  {
   "cell_type": "code",
   "execution_count": 4,
   "metadata": {},
   "outputs": [],
   "source": [
    "x = data.iloc[:,1:2]\n",
    "y = data.iloc[:,0:1]"
   ]
  },
  {
   "cell_type": "markdown",
   "metadata": {},
   "source": [
    "Polynomial Regression is done by introducing higher degree terms in our regression problem to make it easier to fit a line through the data\n",
    "Here x only has one feature, therefore we will introduce higher degree terms in it for example :- \n",
    "$x^2 , x^3 , etc$"
   ]
  },
  {
   "cell_type": "markdown",
   "metadata": {},
   "source": [
    "### Objective Function\n",
    "The objective function is the Mean Square Function for the Polynomial Regression. Mean square error function shows the mean square error done by the gradient descent to lower down the error/loss in the learning and predicting of data."
   ]
  },
  {
   "cell_type": "code",
   "execution_count": 5,
   "metadata": {},
   "outputs": [],
   "source": [
    "def objective_function(x,y,theta,theta_0,lam=0):\n",
    "    MSE = np.sum(np.square(x@theta + theta_0 - y) + lam*0.5*np.square(np.linalg.norm(theta)))\n",
    "    return (MSE/x.shape[0]*2)"
   ]
  },
  {
   "cell_type": "markdown",
   "metadata": {},
   "source": [
    "### Theta Function\n",
    "The fdash_theta and fdash_theta0 function are the function to calculate the theta and theta0 for the gradient descent for the training of the linear model."
   ]
  },
  {
   "cell_type": "code",
   "execution_count": 6,
   "metadata": {},
   "outputs": [],
   "source": [
    "def fdash_theta(x,y,theta,theta_0,lam=0):\n",
    "    ans = (x@theta+theta_0-y ).T@x + lam*np.linalg.norm(theta)\n",
    "    return 2*ans.T/x.shape[0]\n",
    "\n",
    "def fdash_theta0(x,y,theta,theta_0):\n",
    "    ans = np.sum(x@theta+theta_0-y)\n",
    "    return 2*ans/x.shape[0]"
   ]
  },
  {
   "cell_type": "markdown",
   "metadata": {},
   "source": [
    "### Data Creation Function\n",
    "The data creation function is use to create an augmented data of the original data. The augmented data is containing the value of the user provide data having degree 2, 3, or more. <br>\n",
    "for eg :- $x^2, x^3, etc$"
   ]
  },
  {
   "cell_type": "code",
   "execution_count": 7,
   "metadata": {},
   "outputs": [],
   "source": [
    "def data_creation(x,y,degree):\n",
    "    dummy1 = x\n",
    "    dummy_temp = x\n",
    "    \n",
    "    for d in range(degree-1):\n",
    "        dummy_temp = x*dummy_temp\n",
    "        dummy1 = np.append(dummy1,dummy_temp,axis=1)\n",
    "        \n",
    "    # new data with the higher degree terms\n",
    "    augmented_data = dummy1\n",
    "    \n",
    "    # normalise data\n",
    "    xmean = np.mean(augmented_data,axis=0)\n",
    "    xstd = np.std(augmented_data,axis=0)\n",
    "    augmented_data = (augmented_data-xmean)/xstd\n",
    "    \n",
    "    ymean = np.mean(y)\n",
    "    ystd = np.std(y)\n",
    "    y = (y-ymean)/ystd\n",
    "    \n",
    "    del dummy1,dummy_temp\n",
    "    \n",
    "    return augmented_data,y"
   ]
  },
  {
   "cell_type": "markdown",
   "metadata": {},
   "source": [
    "### Plotter Function\n",
    "The plotter function is use to plot the graph of polynomial regression. The graph is plot over different degree of the data."
   ]
  },
  {
   "cell_type": "code",
   "execution_count": 8,
   "metadata": {},
   "outputs": [],
   "source": [
    "def plotter(x,y,degree,theta):\n",
    "    dummy1 = x\n",
    "    dummy_temp = x\n",
    "\n",
    "    for d in range(degree-1):\n",
    "        dummy_temp = x*dummy_temp\n",
    "        dummy1 = np.append(dummy1,dummy_temp,axis=1)\n",
    "\n",
    "    # new data with the higher degree terms\n",
    "    augmented_data = dummy1\n",
    "\n",
    "    ymean = np.mean(y)\n",
    "    ystd = np.std(y)\n",
    "    xmean = np.mean(augmented_data,axis=0)\n",
    "    xstd = np.std(augmented_data,axis=0)\n",
    "    plt.plot(x,(((augmented_data-xmean)/xstd@theta)*ystd+ymean),label='degree '+str(degree))"
   ]
  },
  {
   "cell_type": "markdown",
   "metadata": {},
   "source": [
    "### Polynomial Regression Function\n",
    "The Fit function is to fit the learning curve and reduce the loss of the model. The algorithm use here is\n",
    "the Stocastic Gradient Descent(SGD). The algorithm is containing the learning rate,epsilon for the stoping of\n",
    "under going algorithm to find global minima."
   ]
  },
  {
   "cell_type": "code",
   "execution_count": 9,
   "metadata": {},
   "outputs": [],
   "source": [
    "def polynomial_regression(x,y,degree,alpha=0.001,eps=10e-10,lam=0):\n",
    "    \"\"\"\n",
    "    This function will fit the given data x to y\n",
    "    \n",
    "    x: array containing the data\n",
    "    y: array containing regression values\n",
    "    degree: int value stating the highest degree polynomial to be introduced\n",
    "    alpha=0.001: Learning Rate\n",
    "    eps=10e-4: tolerance \n",
    "    lam=0: value of L2 regularisation parameter\n",
    "    \"\"\"     \n",
    "    \n",
    "    augmented_data,y = data_creation(x,y,degree)\n",
    "    # Gradient Descent\n",
    "    \n",
    "    theta_i = np.zeros(shape=(augmented_data.shape[1],1))\n",
    "    theta_0i = np.zeros(1)\n",
    "    \n",
    "    i = 0\n",
    "    \n",
    "    #Loop for the continuing the process again till it gets to the local minima\n",
    "    while True:\n",
    "        \n",
    "        mse_i = objective_function(augmented_data,y,theta_i,theta_0i,lam)\n",
    "        \n",
    "        history_thet = 1\n",
    "        history_thet0 = 1\n",
    "        \n",
    "        theta_f = theta_i - alpha*fdash_theta(augmented_data,y,theta_i,theta_0i,lam)\n",
    "        theta_0f = theta_0i - alpha*fdash_theta0(augmented_data,y,theta_i,theta_0i)\n",
    "        \n",
    "        mse_f = objective_function(augmented_data,y,theta_f,theta_0f,lam)\n",
    "        \n",
    "        if i%50000==0:\n",
    "            print(\"MSE at step {} is {}\".format(i,mse_f))\n",
    "        i+=1\n",
    "        \n",
    "        if abs(mse_f-mse_i)<=eps:\n",
    "            print(\"MSE at step {} is {}\".format(i,mse_f))\n",
    "            break\n",
    "                \n",
    "        theta_i = theta_f\n",
    "        theta_0i = theta_0f\n",
    "        \n",
    "    return theta_f,theta_0f"
   ]
  },
  {
   "cell_type": "markdown",
   "metadata": {},
   "source": [
    "## Main Function"
   ]
  },
  {
   "cell_type": "code",
   "execution_count": 10,
   "metadata": {},
   "outputs": [
    {
     "name": "stdout",
     "output_type": "stream",
     "text": [
      "MSE at step 0 is 1.9832122318809255\n",
      "MSE at step 5576 is 0.9077622219819727\n"
     ]
    }
   ],
   "source": [
    "# since they are series\n",
    "x = np.array(x).reshape(569,1)\n",
    "y = np.array(y).reshape(569,1)\n",
    "theta,theta_0 = polynomial_regression(x,y,5,lam=0.05,alpha=10e-4,eps=10e-10)"
   ]
  },
  {
   "cell_type": "markdown",
   "metadata": {},
   "source": [
    "### Calculating Theta\n",
    "Calculating the theta over various degree of the given data. The data is given by the user according the regression user wants. The degree is of the data which is :- <br>\n",
    "$ x^2, x^3, etc$"
   ]
  },
  {
   "cell_type": "code",
   "execution_count": 11,
   "metadata": {},
   "outputs": [
    {
     "name": "stdout",
     "output_type": "stream",
     "text": [
      "MSE at step 0 is 1.9957409436903022\n",
      "MSE at step 6127 is 0.9873917144125064\n",
      "MSE at step 0 is 1.991754316239665\n",
      "MSE at step 8968 is 0.9788381440525422\n",
      "MSE at step 0 is 1.9882738004028666\n",
      "MSE at step 7111 is 0.9734256769584445\n"
     ]
    },
    {
     "data": {
      "text/plain": [
       "<matplotlib.legend.Legend at 0x7fde83108c10>"
      ]
     },
     "execution_count": 11,
     "metadata": {},
     "output_type": "execute_result"
    },
    {
     "data": {
      "image/png": "[encoded data removed]",
      "text/plain": [
       "<Figure size 432x288 with 1 Axes>"
      ]
     },
     "metadata": {
      "needs_background": "light"
     },
     "output_type": "display_data"
    }
   ],
   "source": [
    "for d in range(1,4):\n",
    "    theta,theta_0 = polynomial_regression(x,y,d,lam=0.1,alpha=10e-4,eps=10e-10)\n",
    "    plotter(x,y,d,theta)\n",
    "plt.scatter(x,y,label='original',color='red')\n",
    "plt.legend()"
   ]
  },
  {
   "cell_type": "markdown",
   "metadata": {},
   "source": [
    "### Simple Linear Regression\n",
    "In case of Linear Regression. The linear model gives theta from the given formula.- <br>\n",
    "$\\theta = (X^{T}X)^{-1}X^{T}Y$ <br>\n",
    "This formula is calculating the weight from simple linear regression model. Simple Linear regression is a algorithm which gives an overview of the theta over single feature of the dataset. "
   ]
  },
  {
   "cell_type": "code",
   "execution_count": 12,
   "metadata": {},
   "outputs": [],
   "source": [
    "#Simple Linear Regression\n",
    "\"\"\"Simple Linear Regression function is a function use to calculate theta(weight) over a particular feature \n",
    "given by the user. Here a concept of polynomial regression of creating augmented data is used and the theta\n",
    "is calculated over the augmented data.\"\"\"\n",
    "def find_theta(x,y,degree):\n",
    "    dummy1 = x\n",
    "    dummy_temp = x\n",
    "\n",
    "    for d in range(degree-1):\n",
    "        dummy_temp = x*dummy_temp\n",
    "        dummy1 = np.append(dummy1,dummy_temp,axis=1)\n",
    "\n",
    "    # new data with the higher degree terms\n",
    "    augmented_data = dummy1\n",
    "\n",
    "    ymean = np.mean(y)\n",
    "    ystd = np.std(y)\n",
    "    xmean = np.mean(augmented_data,axis=0)\n",
    "    xstd = np.std(augmented_data,axis=0)\n",
    "\n",
    "    adj_data = (augmented_data-xmean)/xstd\n",
    "    adj_labels = (y-ymean)/ystd\n",
    "\n",
    "    theta = np.linalg.inv(adj_data.T @ adj_data)@adj_data.T@adj_labels\n",
    "    \n",
    "    return theta"
   ]
  },
  {
   "cell_type": "code",
   "execution_count": 13,
   "metadata": {},
   "outputs": [
    {
     "name": "stdout",
     "output_type": "stream",
     "text": [
      "The Theta Calculate Simple :  [[   7.03664512]\n",
      " [ -52.78471227]\n",
      " [ 123.26784157]\n",
      " [-115.02924456]\n",
      " [  38.20976639]]\n"
     ]
    }
   ],
   "source": [
    "thet = find_theta(x,y,degree = 5)\n",
    "print(\"The Theta Calculate Simple : \",thet)"
   ]
  }
 ],
 "metadata": {
  "kernelspec": {
   "display_name": "Python 3",
   "language": "python",
   "name": "python3"
  },
  "language_info": {
   "codemirror_mode": {
    "name": "ipython",
    "version": 3
   },
   "file_extension": ".py",
   "mimetype": "text/x-python",
   "name": "python",
   "nbconvert_exporter": "python",
   "pygments_lexer": "ipython3",
   "version": "3.7.6"
  }
 },
 "nbformat": 4,
 "nbformat_minor": 2
}
