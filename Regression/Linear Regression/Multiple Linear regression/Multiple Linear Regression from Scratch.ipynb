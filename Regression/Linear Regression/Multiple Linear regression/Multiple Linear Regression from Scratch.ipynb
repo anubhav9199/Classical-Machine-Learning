{
 "cells": [
  {
   "cell_type": "markdown",
   "metadata": {},
   "source": [
    "# Multiple Linear Regression from Scratch on Breast Cancer Data\n",
    "Linear regression is a algorithm which is starting level algorithm for machine learning prediction. This code contains only about how we can fit a linear model over user given dataset and also to get a good output result out of it. The code is fully moduler so that to keep in mind about the use of the functions in other programs also."
   ]
  },
  {
   "cell_type": "markdown",
   "metadata": {},
   "source": [
    "### Importing Libraries"
   ]
  },
  {
   "cell_type": "code",
   "execution_count": 1,
   "metadata": {},
   "outputs": [],
   "source": [
    "import numpy as np\n",
    "import matplotlib.pyplot as plt\n",
    "import pandas as pd"
   ]
  },
  {
   "cell_type": "markdown",
   "metadata": {},
   "source": [
    "Importing data which we'll work on"
   ]
  },
  {
   "cell_type": "code",
   "execution_count": 2,
   "metadata": {},
   "outputs": [],
   "source": [
    "#data calling\n",
    "data=pd.read_csv('Breast_Cancer_Data.csv')"
   ]
  },
  {
   "cell_type": "markdown",
   "metadata": {},
   "source": [
    "Removing unnecessary columns from the dataset so that you won't face any trouble regarding the dataset. I use Breast Cancer Dataset to train model and predict whether the person is having cancer or not."
   ]
  },
  {
   "cell_type": "code",
   "execution_count": 3,
   "metadata": {},
   "outputs": [],
   "source": [
    "data.drop([data.columns[0],data.columns[32]],axis = 1,inplace = True)\n",
    "data['diagnosis'].replace(to_replace=['B','M'],value=[0,1],inplace=True)"
   ]
  },
  {
   "cell_type": "markdown",
   "metadata": {},
   "source": [
    "Funtion for Standardizing data"
   ]
  },
  {
   "cell_type": "markdown",
   "metadata": {},
   "source": [
    "### Standardization\n",
    "Standardization is a process for making a dataset fit for the training of the model. In this prosess we make a dataset whose value lies between zero mean and one standard deviation. The Data Comming out from this process is smooth for the curves and fitting a model."
   ]
  },
  {
   "cell_type": "code",
   "execution_count": 4,
   "metadata": {},
   "outputs": [],
   "source": [
    "def standardize(data):\n",
    "    return (data-np.mean(data,axis=0))/np.std(data,axis=0)"
   ]
  },
  {
   "cell_type": "markdown",
   "metadata": {},
   "source": [
    "### Data Processing\n",
    "The function use to process data accirding to the user for the fitting of Linear Regression model. The Columns are selected here is according to the BREAST CANCER DATASET from WINCONSIN Hospital Easily find on Kaggle(www.kaggle.com)."
   ]
  },
  {
   "cell_type": "code",
   "execution_count": 5,
   "metadata": {},
   "outputs": [],
   "source": [
    "def data_process(data):\n",
    "    y=data.iloc[:,0:1].values\n",
    "    x=data.iloc[:,1:5]\n",
    "    x=pd.get_dummies(x)\n",
    "    x=np.array(x)\n",
    "    y=y.reshape(y.shape[0],1)\n",
    "    x=standardize(x)\n",
    "    y=standardize(y)\n",
    "    x=np.append(arr=np.ones((x.shape[0],1)),values=x.astype(float),axis=1)\n",
    "    return x,y"
   ]
  },
  {
   "cell_type": "markdown",
   "metadata": {},
   "source": [
    "### Predition Function\n",
    "Prediction function for predicting the result of the linear regression."
   ]
  },
  {
   "cell_type": "code",
   "execution_count": 6,
   "metadata": {},
   "outputs": [],
   "source": [
    "def predict(theta,xi):\n",
    "    return xi@theta.T"
   ]
  },
  {
   "cell_type": "markdown",
   "metadata": {},
   "source": [
    "### Mean Square Error\n",
    "Mean square error function shows the mean square error done by the gradient descent to lower down the error/loss in the learning and predicting of data."
   ]
  },
  {
   "cell_type": "code",
   "execution_count": 7,
   "metadata": {},
   "outputs": [],
   "source": [
    "def sq_loss(theta,x,y):\n",
    "    return (np.sum(np.power(((x@theta.T)-y),2)))/2*len(x)"
   ]
  },
  {
   "cell_type": "markdown",
   "metadata": {},
   "source": [
    "### Gradient Function\n",
    "Gradient function is use to find the derivatives for the gradient descent algorithm."
   ]
  },
  {
   "cell_type": "code",
   "execution_count": 8,
   "metadata": {},
   "outputs": [],
   "source": [
    "def gradients(theta,x,y):\n",
    "    return (np.sum(x*(x@theta.T-y),axis=0))/len(x)"
   ]
  },
  {
   "cell_type": "markdown",
   "metadata": {},
   "source": [
    "### Gradient Descent\n",
    "The Fit function is to fit the learning curve and reduce the loss of the model. The algorithm use here is the Stocastic Gradient Descent(SGD). The algorithm is containing the learning rate,epsilon for the stoping of under going algorithm to find global minima."
   ]
  },
  {
   "cell_type": "code",
   "execution_count": 9,
   "metadata": {},
   "outputs": [],
   "source": [
    "def fit(x,y,alpha,epsilon):\n",
    "    \n",
    "    #Initializing variables\n",
    "    ti=np.zeros((1,x.shape[1]))\n",
    "    i=0\n",
    "    error=1\n",
    "    loss=sq_loss(ti,x,y)\n",
    "    losslist=[]\n",
    "    iterlist=[]\n",
    "    \n",
    "    #Loop for the continuing the process again till it gets to the local minima\n",
    "    while error>epsilon:\n",
    "        \n",
    "        #using of gradient function\n",
    "        gt=gradients(ti,x,y)\n",
    "        \n",
    "        theta=ti-alpha*gt\n",
    "        ti=theta\n",
    "        \n",
    "        loss_final=sq_loss(theta,x,y)\n",
    "        error=abs(loss_final-loss)\n",
    "        \n",
    "        losslist.append(loss)\n",
    "        iterlist.append(i)\n",
    "        loss=loss_final\n",
    "        i+=1\n",
    "    \n",
    "    #ploting the learning curve\n",
    "    plt.plot(iterlist,losslist)\n",
    "    plt.xlabel('Iterations')\n",
    "    plt.title('Loss curve')\n",
    "    plt.ylabel('Loss')\n",
    "    return theta"
   ]
  },
  {
   "cell_type": "markdown",
   "metadata": {},
   "source": [
    "### Ploting line\n",
    "Line function to trace the line curve in the plot and to get the error/loss line which is y = m * x + c."
   ]
  },
  {
   "cell_type": "code",
   "execution_count": 10,
   "metadata": {},
   "outputs": [],
   "source": [
    "def line(slope, intercept):\n",
    "    axes=plt.gca()\n",
    "    x=np.array(axes.get_xlim())\n",
    "    \n",
    "    #Line equation which is to be plot here intercept is the distance from the origin to the line on the y-axia\n",
    "    #and slope is the angle of the line from the positive x-axis\n",
    "    y=intercept+slope*x\n",
    "    \n",
    "    #ploting the line\n",
    "    plt.plot(x, y,'--r',linewidth=2)"
   ]
  },
  {
   "cell_type": "markdown",
   "metadata": {},
   "source": [
    "## Main Function Calling"
   ]
  },
  {
   "cell_type": "markdown",
   "metadata": {},
   "source": [
    "Splitting training and testing data"
   ]
  },
  {
   "cell_type": "code",
   "execution_count": 11,
   "metadata": {},
   "outputs": [],
   "source": [
    "x,y = data_process(data)\n",
    "train_len=int(x.shape[0]*0.7)\n",
    "y.reshape(y.shape[0],1)\n",
    "x_train=x[:train_len,:]\n",
    "x_test=x[train_len:,:]\n",
    "y_train=y[:train_len]\n",
    "y_test=y[train_len:]"
   ]
  },
  {
   "cell_type": "markdown",
   "metadata": {},
   "source": [
    "Fitting our model"
   ]
  },
  {
   "cell_type": "code",
   "execution_count": 12,
   "metadata": {},
   "outputs": [
    {
     "data": {
      "image/png": "[encoded data removed]",
      "text/plain": [
       "<Figure size 432x288 with 1 Axes>"
      ]
     },
     "metadata": {
      "needs_background": "light"
     },
     "output_type": "display_data"
    }
   ],
   "source": [
    "alpha=0.0001\n",
    "epsilon=0.00001\n",
    "t=fit(x_train,y_train,alpha,epsilon)"
   ]
  },
  {
   "cell_type": "markdown",
   "metadata": {},
   "source": [
    "Mean Training error"
   ]
  },
  {
   "cell_type": "code",
   "execution_count": 13,
   "metadata": {},
   "outputs": [
    {
     "data": {
      "text/plain": [
       "31337.230990752134"
      ]
     },
     "execution_count": 13,
     "metadata": {},
     "output_type": "execute_result"
    }
   ],
   "source": [
    "sq_loss(t,x_train,y_train)"
   ]
  },
  {
   "cell_type": "code",
   "execution_count": 14,
   "metadata": {},
   "outputs": [
    {
     "data": {
      "text/plain": [
       "0.5252037532791247"
      ]
     },
     "execution_count": 14,
     "metadata": {},
     "output_type": "execute_result"
    }
   ],
   "source": [
    "training_error=abs(y_train-predict(t,x_train))\n",
    "mean_training_error=np.sum(training_error)/training_error.shape[0]\n",
    "mean_training_error"
   ]
  },
  {
   "cell_type": "markdown",
   "metadata": {},
   "source": [
    "Predicting the result"
   ]
  },
  {
   "cell_type": "code",
   "execution_count": 15,
   "metadata": {},
   "outputs": [],
   "source": [
    "result=predict(t,x_test)"
   ]
  },
  {
   "cell_type": "markdown",
   "metadata": {},
   "source": [
    "Mean Testing error"
   ]
  },
  {
   "cell_type": "code",
   "execution_count": 16,
   "metadata": {},
   "outputs": [
    {
     "data": {
      "text/plain": [
       "5875.097547608313"
      ]
     },
     "execution_count": 16,
     "metadata": {},
     "output_type": "execute_result"
    }
   ],
   "source": [
    "sq_loss(t,x_test,y_test)"
   ]
  },
  {
   "cell_type": "code",
   "execution_count": 17,
   "metadata": {},
   "outputs": [
    {
     "data": {
      "text/plain": [
       "0.5245318325693749"
      ]
     },
     "execution_count": 17,
     "metadata": {},
     "output_type": "execute_result"
    }
   ],
   "source": [
    "testing_error=result-y_test\n",
    "testing_error=abs(testing_error)\n",
    "mean_testing_error=np.sum(testing_error)/testing_error.shape[0]\n",
    "mean_testing_error"
   ]
  }
 ],
 "metadata": {
  "kernelspec": {
   "display_name": "Python 3",
   "language": "python",
   "name": "python3"
  },
  "language_info": {
   "codemirror_mode": {
    "name": "ipython",
    "version": 3
   },
   "file_extension": ".py",
   "mimetype": "text/x-python",
   "name": "python",
   "nbconvert_exporter": "python",
   "pygments_lexer": "ipython3",
   "version": "3.7.6"
  }
 },
 "nbformat": 4,
 "nbformat_minor": 2
}
