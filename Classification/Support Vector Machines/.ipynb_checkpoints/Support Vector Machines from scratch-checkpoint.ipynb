{
 "cells": [
  {
   "cell_type": "markdown",
   "metadata": {},
   "source": [
    "Importing necessary libraries"
   ]
  },
  {
   "cell_type": "code",
   "execution_count": 1,
   "metadata": {},
   "outputs": [],
   "source": [
    "import pandas as pd\n",
    "import numpy as np\n",
    "import random as rd"
   ]
  },
  {
   "cell_type": "markdown",
   "metadata": {},
   "source": [
    "Funtion to return thetas after the SVM trains itself on training data"
   ]
  },
  {
   "cell_type": "code",
   "execution_count": 2,
   "metadata": {},
   "outputs": [],
   "source": [
    "def thetas():\n",
    "    a=lambdas*C_train.T\n",
    "    theta=np.matmul(x.T,a.T)\n",
    "    neg_x=x[np.where(C_train==-1)[0]]\n",
    "    pos_x=x[np.where(C_train==1)[0]]\n",
    "    pos=np.min(1-np.matmul(theta.T,pos_x.T))\n",
    "    neg=np.max(-1-np.matmul(theta.T,neg_x.T))\n",
    "    theta0=(pos+neg)/2\n",
    "    return theta,theta0"
   ]
  },
  {
   "cell_type": "markdown",
   "metadata": {},
   "source": [
    "Funtion to calculate Error"
   ]
  },
  {
   "cell_type": "code",
   "execution_count": 3,
   "metadata": {},
   "outputs": [],
   "source": [
    "def E(i,b):\n",
    "    fx=np.sum((C_train*lambdas)*np.matmul(x,x[i].T))+b\n",
    "    return fx-C_train[i]"
   ]
  },
  {
   "cell_type": "markdown",
   "metadata": {},
   "source": [
    "Funtion to find upper and lower bounds which don't voilate KKT condition"
   ]
  },
  {
   "cell_type": "code",
   "execution_count": 4,
   "metadata": {},
   "outputs": [],
   "source": [
    "def LnH(i,j,regularize):\n",
    "    if C_train[i]!=C_train[j]:\n",
    "        L=max(0, lambdas[j]-lambdas[i])\n",
    "        H=min(regularize,regularize+lambdas[j]-lambdas[i])\n",
    "    if C_train[i]==C_train[j]:\n",
    "        L=max(0,lambdas[i]+lambdas[j]-regularize)\n",
    "        H=min(regularize,lambdas[i]+lambdas[j])\n",
    "    return L,H"
   ]
  },
  {
   "cell_type": "markdown",
   "metadata": {},
   "source": [
    "Funtion to return inner product (or implement some kernel funtion K)"
   ]
  },
  {
   "cell_type": "code",
   "execution_count": 5,
   "metadata": {},
   "outputs": [],
   "source": [
    "def compute_eta(i,j):\n",
    "    return (2*np.matmul(x[i],x[j].T)-np.matmul(x[i],x[i].T)-np.matmul(x[j],x[j].T))"
   ]
  },
  {
   "cell_type": "markdown",
   "metadata": {},
   "source": [
    "Funtion to compute threshold"
   ]
  },
  {
   "cell_type": "code",
   "execution_count": 6,
   "metadata": {},
   "outputs": [],
   "source": [
    "def compute_b(i,j,b,E1,E2,R):\n",
    "    I=C_train[i]*(lambdas[i]-lambdas_old[i])\n",
    "    J=C_train[j]*(lambdas[j]-lambdas_old[j])\n",
    "    b1=b-E1-(I*np.matmul(x[i],x[i].T))-(J*np.matmul(x[i],x[j].T))\n",
    "    b2=b-E2-(I*np.matmul(x[i],x[j].T))-(J*np.matmul(x[j],x[j].T))\n",
    "    if lambdas[i]>0 and lambdas[i]<R:\n",
    "        b=b1\n",
    "    elif lambdas[j]>0 and lambdas[j]<R:\n",
    "        b=b2\n",
    "    else:\n",
    "        b=(b1+b2)/2\n",
    "    return b"
   ]
  },
  {
   "cell_type": "markdown",
   "metadata": {},
   "source": [
    "Function to clip the value of 'Lagrange Multiplier' if they voilate KKT condition"
   ]
  },
  {
   "cell_type": "code",
   "execution_count": 7,
   "metadata": {},
   "outputs": [],
   "source": [
    "def clip(H,L,j):\n",
    "    if lambdas[j]>H:\n",
    "        lambdas[j]=H\n",
    "    elif lambdas[j]<L:\n",
    "        lambdas[j]=L"
   ]
  },
  {
   "cell_type": "markdown",
   "metadata": {},
   "source": [
    "Funtion to pick second Lagrange multiplier which results the max value of Error with the first Lagrange Multiplier"
   ]
  },
  {
   "cell_type": "code",
   "execution_count": 8,
   "metadata": {},
   "outputs": [],
   "source": [
    "def second_lambda(i):\n",
    "    elist=[]\n",
    "    for k in range(0,x.shape[0]):\n",
    "        e=E(k,b)\n",
    "        elist.append(abs(e-E(i,b)))\n",
    "    new_j=np.argmax(elist)\n",
    "    return new_j            "
   ]
  },
  {
   "cell_type": "markdown",
   "metadata": {},
   "source": [
    "Importing the data and applying required preprocessing"
   ]
  },
  {
   "cell_type": "code",
   "execution_count": 9,
   "metadata": {},
   "outputs": [],
   "source": [
    "data=pd.read_csv(\"C:/Users/lucif/Documents/Jupiter_Notebook/Datasets/data.csv\")\n",
    "\n",
    "C=(data['diagnosis'])\n",
    "C.replace(to_replace=['B','M'],value=[1,-1],inplace=True)\n",
    "C=np.array(C).reshape(569,1)\n",
    "\n",
    "data=data.drop(labels='diagnosis',axis=1)\n",
    "data=data.drop(labels='Unnamed: 32',axis=1)\n",
    "data=data.drop(labels='id',axis=1)\n",
    "data=(data-np.mean(data,axis=0))/np.std(data,axis=0)"
   ]
  },
  {
   "cell_type": "markdown",
   "metadata": {},
   "source": [
    "Splitting training and testing data"
   ]
  },
  {
   "cell_type": "code",
   "execution_count": 10,
   "metadata": {},
   "outputs": [],
   "source": [
    "training_len=0.75*data.shape[0]\n",
    "train_data=data.iloc[-int(training_len):]\n",
    "test_data=data.iloc[:data.shape[0]-int(training_len)]\n",
    "x=np.array(train_data)\n",
    "\n",
    "C_train=C[:int(training_len)]\n",
    "C_test=C[int(training_len):]"
   ]
  },
  {
   "cell_type": "markdown",
   "metadata": {},
   "source": [
    "Initializing parameters for Sequencial Minimal Optimization"
   ]
  },
  {
   "cell_type": "code",
   "execution_count": 11,
   "metadata": {},
   "outputs": [],
   "source": [
    "max_passes=1\n",
    "passes=0\n",
    "tol=10**(-1)\n",
    "R=x.shape[0]\n",
    "\n",
    "lambdas=np.zeros((C_train.shape[0]))\n",
    "#lambdas[np.where(lambdas<0)[0]]=0\n",
    "lambdas_old=np.zeros((C_train.shape[0]))\n",
    "b=0"
   ]
  },
  {
   "cell_type": "markdown",
   "metadata": {},
   "source": [
    "Sequential Minimal Optimization (Refrenced from : CS229 Simplified SMO)"
   ]
  },
  {
   "cell_type": "code",
   "execution_count": 12,
   "metadata": {},
   "outputs": [
    {
     "name": "stdout",
     "output_type": "stream",
     "text": [
      "0\n",
      "0\n",
      "1\n"
     ]
    }
   ],
   "source": [
    "while passes < max_passes:\n",
    "    changed_alphas = 0\n",
    "    for i in range(0,x.shape[0]):\n",
    "        E1=E(i,b)\n",
    "        if (C_train[i]*E1 < -tol and lambdas[i] < R) or (C_train[i]*E1 > tol and lambdas[i] > 0):\n",
    "            j=second_lambda(i)\n",
    "            E2=E(j,b)\n",
    "            lambdas_old[i]=lambdas[i]\n",
    "            lambdas_old[j]=lambdas[j]\n",
    "            L,H=LnH(i,j,R)\n",
    "            if L == H:\n",
    "                continue\n",
    "            eta=compute_eta(i,j)\n",
    "            if eta >= 0:\n",
    "                continue\n",
    "            lambdas[j]=lambdas[j]+(C_train[j]*(int(E2-E1)))/eta\n",
    "            clip(H,L,j)\n",
    "            if (abs(lambdas[j] - lambdas_old[j]) < 10**(-5)):\n",
    "                continue\n",
    "            lambdas[i]=lambdas[i]-(C_train[i]*C_train[j]*(lambdas[j]-lambdas_old[j]))\n",
    "            b=compute_b(i,j,b,E1,E2,R)\n",
    "            changed_alphas = changed_alphas + 1\n",
    "    if changed_alphas == 0:\n",
    "        passes=passes + 1\n",
    "    else:\n",
    "        passes=0\n",
    "    print(passes)"
   ]
  },
  {
   "cell_type": "markdown",
   "metadata": {},
   "source": [
    "Number of support vectors"
   ]
  },
  {
   "cell_type": "code",
   "execution_count": 13,
   "metadata": {},
   "outputs": [
    {
     "data": {
      "text/plain": [
       "10"
      ]
     },
     "execution_count": 13,
     "metadata": {},
     "output_type": "execute_result"
    }
   ],
   "source": [
    "np.count_nonzero(lambdas)"
   ]
  },
  {
   "cell_type": "markdown",
   "metadata": {},
   "source": [
    "Getting the parameters for Decision Boundary"
   ]
  },
  {
   "cell_type": "code",
   "execution_count": 14,
   "metadata": {},
   "outputs": [],
   "source": [
    "t,t0=thetas()"
   ]
  },
  {
   "cell_type": "markdown",
   "metadata": {},
   "source": [
    "Testing Accuracy"
   ]
  },
  {
   "cell_type": "code",
   "execution_count": 15,
   "metadata": {},
   "outputs": [
    {
     "data": {
      "text/plain": [
       "74.12587412587412"
      ]
     },
     "execution_count": 15,
     "metadata": {},
     "output_type": "execute_result"
    }
   ],
   "source": [
    "y=np.array(test_data)\n",
    "predicted_labels=np.matmul(y,t)+t0\n",
    "predicted_labels[np.where(predicted_labels>0)[0]]=1\n",
    "predicted_labels[np.where(predicted_labels<=0)[0]]=-1\n",
    "o=np.count_nonzero(np.equal(C_test,predicted_labels))\n",
    "accuracy=(o/C_test.shape[0])*100\n",
    "accuracy"
   ]
  },
  {
   "cell_type": "markdown",
   "metadata": {},
   "source": [
    "Training Accuracy"
   ]
  },
  {
   "cell_type": "code",
   "execution_count": 16,
   "metadata": {},
   "outputs": [
    {
     "data": {
      "text/plain": [
       "58.45070422535211"
      ]
     },
     "execution_count": 16,
     "metadata": {},
     "output_type": "execute_result"
    }
   ],
   "source": [
    "training_label=np.matmul(x,t)+t0\n",
    "training_label[np.where(training_label>0)[0]]=1\n",
    "training_label[np.where(training_label<0)[0]]=-1\n",
    "np.count_nonzero(np.equal(C_train,training_label))/C_train.shape[0]*100"
   ]
  }
 ],
 "metadata": {
  "kernelspec": {
   "display_name": "Python 3",
   "language": "python",
   "name": "python3"
  },
  "language_info": {
   "codemirror_mode": {
    "name": "ipython",
    "version": 3
   },
   "file_extension": ".py",
   "mimetype": "text/x-python",
   "name": "python",
   "nbconvert_exporter": "python",
   "pygments_lexer": "ipython3",
   "version": "3.6.9"
  }
 },
 "nbformat": 4,
 "nbformat_minor": 2
}
