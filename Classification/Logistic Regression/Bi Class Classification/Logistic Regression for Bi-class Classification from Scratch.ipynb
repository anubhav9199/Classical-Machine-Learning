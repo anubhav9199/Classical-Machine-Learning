{
 "cells": [
  {
   "cell_type": "markdown",
   "metadata": {},
   "source": [
    "# Logistic Regression from Scratch over Breast Cancer Data(Bi-Class Classification)\n",
    "Logistic regression is a statistical model that in its basic form uses a logistic function to model a binary dependent variable, although many more complex extensions exist. In regression analysis, logistic regression (or logit regression) is estimating the parameters of a logistic model (a form of binary regression). It is a Discriminate Learning Algorithm which means that it try to find posterior probability over classes directly without the envolvement of likelihood probabilities.<br>\n",
    "\n",
    "In statistics, the logistic model is used to model the probability of a certain class or event existing such as pass/fail, win/lose, alive/dead, True/False or healthy/sick. <br>\n",
    "\n",
    "This can be extended to Classify several classes of events such as determining whether an image contains a cat, dog, lion, etc.<br>\n",
    "\n",
    "This code contains only about how we can fit a logistic model over user given dataset and also to get a good output result out of it. The code written keeping vision of object oriented programing which means that the code is fully moduler so that to keep in mind about the use of the functions in other programs also.\n",
    "<br>\n",
    "### Importing Libraries"
   ]
  },
  {
   "cell_type": "code",
   "execution_count": 1,
   "metadata": {},
   "outputs": [],
   "source": [
    "import numpy as np\n",
    "import pandas as pd\n",
    "import matplotlib.pyplot as plt\n",
    "from IPython.display import clear_output"
   ]
  },
  {
   "cell_type": "markdown",
   "metadata": {},
   "source": [
    "### Calling Data\n",
    "Data is call for work. The Columns are selected here is according to the BREAST CANCER DATASET from WINCONSIN Hospital Easily find on Kaggle(www.kaggle.com)."
   ]
  },
  {
   "cell_type": "code",
   "execution_count": 2,
   "metadata": {},
   "outputs": [],
   "source": [
    "data= pd.read_csv(\"Breast_Cancer_Data.csv\")\n",
    "columns=data.columns"
   ]
  },
  {
   "cell_type": "markdown",
   "metadata": {},
   "source": [
    "Removing unnecessary columns from the dataset so that you won't face any trouble regarding the dataset. I use Breast Cancer Dataset to train model and predict whether the person is having cancer or not."
   ]
  },
  {
   "cell_type": "code",
   "execution_count": 3,
   "metadata": {
    "scrolled": true
   },
   "outputs": [],
   "source": [
    "data.drop([data.columns[0],data.columns[32]],axis=1,inplace=True)"
   ]
  },
  {
   "cell_type": "markdown",
   "metadata": {},
   "source": [
    "Separating Label Column"
   ]
  },
  {
   "cell_type": "code",
   "execution_count": 4,
   "metadata": {},
   "outputs": [
    {
     "name": "stderr",
     "output_type": "stream",
     "text": [
      "/home/daku/anaconda3/lib/python3.7/site-packages/pandas/core/frame.py:4172: SettingWithCopyWarning: \n",
      "A value is trying to be set on a copy of a slice from a DataFrame\n",
      "\n",
      "See the caveats in the documentation: https://pandas.pydata.org/pandas-docs/stable/user_guide/indexing.html#returning-a-view-versus-a-copy\n",
      "  method=method,\n"
     ]
    }
   ],
   "source": [
    "#separating class column\n",
    "class_label=data.iloc[:,0:1]\n",
    "class_label.replace(to_replace=['B','M'],value=(0,1),inplace=True)\n",
    "class_train=np.array(class_label.iloc[:int(0.7*data.shape[0])])\n",
    "class_test=np.array(class_label.iloc[int(0.7*data.shape[0]):])"
   ]
  },
  {
   "cell_type": "markdown",
   "metadata": {},
   "source": [
    "### Normalising Functions\n",
    "The normalisation is also know as standardisation. Standardization is a process for making a dataset fit for the training of the model. In this prosess we make a dataset whose value lies between zero mean and one standard deviation. The Data Comming out from this process is smooth for the curves and fitting a model."
   ]
  },
  {
   "cell_type": "code",
   "execution_count": 5,
   "metadata": {},
   "outputs": [],
   "source": [
    "def normalise(data_to_normal,data_refer):\n",
    "    mean = data_refer.mean()\n",
    "    std = data_refer.std()\n",
    "    data = (data_to_normal-mean)/std\n",
    "    data = np.array(data)\n",
    "    return data"
   ]
  },
  {
   "cell_type": "markdown",
   "metadata": {},
   "source": [
    "### Sigmoid Function\n",
    "Defining the Sigmoid Function. Sigmoid function is use in the ml to get the probability value (i.e. between 0 to 1) for any feature. The function basically has the formula which make the value equal to probable value of the feature between 0 to 1.<br>\n",
    " \n",
    "### Formula : \n",
    "$$s_ \\theta (x) =  \\frac{\\mathrm{1} }{\\mathrm{1} + e^-{( \\theta^Tx + \\theta 0)}}$$"
   ]
  },
  {
   "cell_type": "code",
   "execution_count": 6,
   "metadata": {},
   "outputs": [],
   "source": [
    "def sigmoid(theta0,theta,train_data):\n",
    "    return 1/(1+np.exp(-(np.matmul(train_data,theta)+theta0)))"
   ]
  },
  {
   "cell_type": "markdown",
   "metadata": {},
   "source": [
    "### Negative Log Loss Function\n",
    "Defining Function for Negative Log Loss calculation.In Convex Optimization we find the global minima to train the model so it get less error while prediction for the testing and training data. This error is called  as loss. We introduce log and a negative sign in case to smoothing of and inverting the parabola to find the global minima.<br>\n",
    "##### Here, Logrithm is use to smoothing out the curve so that it don't stucked in any local minima. \n",
    "##### Here, Negative sign is introduce to invert the parabola of the function.\n",
    "### Formula : \n",
    "$$l_ \\theta (C) = - \\frac{C * H[\\theta_ \\mathrm{0},\\theta_ \\mathrm{1},...,\\theta_ n] + (\\mathrm{1} - C) * H[\\theta_ \\mathrm{0},\\theta_ \\mathrm{1},...,\\theta_ n]}{Training Length}$$"
   ]
  },
  {
   "cell_type": "code",
   "execution_count": 7,
   "metadata": {},
   "outputs": [],
   "source": [
    "def Neg_loss(theta0,theta):\n",
    "    h=sigmoid(theta0,theta,train_data)\n",
    "    return -(1/training_len)*(np.matmul((class_train.T),np.log(h))+np.matmul(((1-class_train).T),np.log(1-h)))"
   ]
  },
  {
   "cell_type": "markdown",
   "metadata": {},
   "source": [
    "### Gradient Descent\n",
    "The Fit function is to fit the learning curve and reduce the loss of the model. The algorithm use here is the Stocastic Gradient Descent(SGD). The algorithm is containing the learning rate,epsilon for the stoping of under going algorithm to find global minima."
   ]
  },
  {
   "cell_type": "code",
   "execution_count": 8,
   "metadata": {},
   "outputs": [],
   "source": [
    "def fit(training_data,training_label,epsilon,alpha,no_of_columns):\n",
    "    theta_init = np.random.randn(no_of_columns,1)\n",
    "    theta0_init = np.random.randn(1,1)\n",
    "    neg_log_loss_history = []\n",
    "    i=0\n",
    "    training_len = training_data.shape[0]\n",
    "    \n",
    "    while True:\n",
    "        H=sigmoid(theta0_init,theta_init,train_data)\n",
    "\n",
    "        H=H.reshape(training_len,1)\n",
    "\n",
    "        theta0_final=theta0_init-(alpha*(1/training_len)*np.sum(H-training_label))\n",
    "\n",
    "        theta_final=theta_init-(alpha*(1/training_len)*(np.matmul((H-training_label).T,training_data)).T)\n",
    "\n",
    "        if abs(Neg_loss(theta0_init,theta_init)-Neg_loss(theta0_final,theta_final))<epsilon:\n",
    "            break\n",
    "\n",
    "        theta0_init=theta0_final\n",
    "\n",
    "        theta_init=theta_final\n",
    "\n",
    "        neg_log_loss_history.append(Neg_loss(theta0_init,theta_init))\n",
    "\n",
    "        #Following line is for printing Verbose on Loss and Iteration\n",
    "        print('Iteration=',i,'\\nLog Loss Value=',neg_log_loss_history[i])\n",
    "        clear_output(wait=True)\n",
    "        \n",
    "        i+=1\n",
    "    return theta0_final,theta_final"
   ]
  },
  {
   "cell_type": "markdown",
   "metadata": {},
   "source": [
    "### Testing Function\n",
    "Defining Testing Function which returns True positive, False positives and accuracy over provided data. The function is also tell about the recall, precision and accuracy of the testing while predicting the result. This helps in knowing how robust our model is working over the data to train itself."
   ]
  },
  {
   "cell_type": "code",
   "execution_count": 9,
   "metadata": {},
   "outputs": [],
   "source": [
    "def testing_and_ROC_values(testing_data,testing_label,theta0_final,theta_final,V=True):\n",
    "    \n",
    "    H_test=1/(1+np.exp(-(theta0_final+np.matmul(testing_data,theta_final))))\n",
    "    \n",
    "    bool_mask=H_test>0.5\n",
    "    \n",
    "    bool_mask=np.uint8(bool_mask)\n",
    "    \n",
    "    x=np.count_nonzero(np.equal(bool_mask,testing_label))\n",
    "    \n",
    "    acc=(x*100)/testing_label.shape[0]\n",
    "    \n",
    "    tn=0\n",
    "    tp=0\n",
    "    fn=0\n",
    "    fp=0\n",
    "    \n",
    "    for i in range(0,testing_label.size):\n",
    "        if(testing_label[i]==1 and bool_mask[i]==1):\n",
    "            tn+=1\n",
    "        elif(testing_label[i]==1 and bool_mask[i]==0):\n",
    "            fp+=1\n",
    "        elif(testing_label[i]==0 and bool_mask[i]==1):\n",
    "            fn+=1\n",
    "        elif(testing_label[i]==0 and bool_mask[i]==0):\n",
    "            tp+=1     \n",
    "            \n",
    "    if V==True:\n",
    "        print(\"Recall =\",100*tp/(tp+fn))\n",
    "        print(\"Precision =\",100*tp/(tp+fp))\n",
    "        print(\"Accuracy =\",acc)\n",
    "        \n",
    "    tpr=tp/(tp+fn)\n",
    "    fpr=fp/(fp+tn)\n",
    "    \n",
    "    return tpr,fpr,acc"
   ]
  },
  {
   "cell_type": "markdown",
   "metadata": {},
   "source": [
    "### Plot ROC Curve Function\n",
    "Preparing to plot ROC curve. The function plot the ROC Curve from the list containing the value of true positive and false positive rate. A receiver operating characteristic curve, or ROC curve, is a graphical plot that illustrates the diagnostic ability of a binary classifier system as its discrimination threshold is varied. The ROC curve is created by plotting the true positive rate against the false positive rate at various threshold settings."
   ]
  },
  {
   "cell_type": "code",
   "execution_count": 10,
   "metadata": {},
   "outputs": [],
   "source": [
    "def plot_ROC_curve(training_data,training_label,testing_data,theta0,theta,V,no_of_rounds):\n",
    "    i=0\n",
    "    ROCx=[1,0]\n",
    "    ROCy=[1,0]\n",
    "    training_len = training_data.shape[0]\n",
    "    testing_len = testing_data.shape[0]\n",
    "\n",
    "    while i<no_of_rounds:\n",
    "        index=np.array(np.random.choice(list(range(training_len)),testing_len),dtype=int)\n",
    "\n",
    "        index.sort()\n",
    "\n",
    "        new_test=training_data[list(index)]    \n",
    "\n",
    "        new_class=training_label[list(index)]\n",
    "\n",
    "        y,x,_=testing_and_ROC_values(new_test,new_class,theta0,theta,V=V)\n",
    "\n",
    "        ROCx.append(x)\n",
    "        ROCy.append(y)\n",
    "        i+=1\n",
    "        \n",
    "    ROCx.sort()\n",
    "    ROCy.sort()\n",
    "\n",
    "    plt.xlim([0,1])\n",
    "    plt.ylim([0,1])\n",
    "    plt.xlabel('False Positive Rate')\n",
    "    plt.ylabel('True Positive Rate')\n",
    "    plt.plot(ROCx,ROCy)"
   ]
  },
  {
   "cell_type": "markdown",
   "metadata": {},
   "source": [
    "###  Main Function"
   ]
  },
  {
   "cell_type": "code",
   "execution_count": 11,
   "metadata": {},
   "outputs": [
    {
     "name": "stderr",
     "output_type": "stream",
     "text": [
      "/home/daku/anaconda3/lib/python3.7/site-packages/pandas/core/frame.py:3997: SettingWithCopyWarning: \n",
      "A value is trying to be set on a copy of a slice from a DataFrame\n",
      "\n",
      "See the caveats in the documentation: https://pandas.pydata.org/pandas-docs/stable/user_guide/indexing.html#returning-a-view-versus-a-copy\n",
      "  errors=errors,\n"
     ]
    }
   ],
   "source": [
    "#Splitting Training and Testing Data\n",
    "training_len=int(0.7*data.shape[0])\n",
    "train_data=data.iloc[:training_len]\n",
    "test_data=data.iloc[training_len:]\n",
    "test_data.drop(labels=[columns[1]],axis=1,inplace=True)\n",
    "train_data.drop(labels=[columns[1]],axis=1,inplace=True)\n",
    "\n",
    "#normalising the data using normalise function.\n",
    "train_data = normalise(train_data,train_data)\n",
    "test_data = normalise(test_data,train_data)"
   ]
  },
  {
   "cell_type": "markdown",
   "metadata": {},
   "source": [
    "### Fitting the model over Training Data"
   ]
  },
  {
   "cell_type": "code",
   "execution_count": 15,
   "metadata": {
    "scrolled": false
   },
   "outputs": [
    {
     "name": "stdout",
     "output_type": "stream",
     "text": [
      "Iteration= 20882 \n",
      "Log Loss Value= [[0.44346268]]\n"
     ]
    }
   ],
   "source": [
    "theta0,theta = fit(training_data=train_data,training_label=class_train,epsilon=0.00001,alpha=0.0001,no_of_columns=30)"
   ]
  },
  {
   "cell_type": "markdown",
   "metadata": {},
   "source": [
    "#### Testing our Model on the Training Data"
   ]
  },
  {
   "cell_type": "code",
   "execution_count": 16,
   "metadata": {},
   "outputs": [
    {
     "name": "stdout",
     "output_type": "stream",
     "text": [
      "Recall = 88.44444444444444\n",
      "Precision = 85.77586206896552\n",
      "Accuracy = 85.17587939698493\n"
     ]
    }
   ],
   "source": [
    "y,x,_=testing_and_ROC_values(train_data,class_train,theta0,theta)"
   ]
  },
  {
   "cell_type": "markdown",
   "metadata": {},
   "source": [
    "#### Testing our Model on the Testing Data"
   ]
  },
  {
   "cell_type": "code",
   "execution_count": 17,
   "metadata": {},
   "outputs": [
    {
     "name": "stdout",
     "output_type": "stream",
     "text": [
      "Recall = 100.0\n",
      "Precision = 77.19298245614036\n",
      "Accuracy = 77.19298245614036\n"
     ]
    },
    {
     "name": "stderr",
     "output_type": "stream",
     "text": [
      "/home/daku/anaconda3/lib/python3.7/site-packages/ipykernel_launcher.py:3: RuntimeWarning: overflow encountered in exp\n",
      "  This is separate from the ipykernel package so we can avoid doing imports until\n"
     ]
    }
   ],
   "source": [
    "y,x,_=testing_and_ROC_values(test_data,class_test,theta0,theta)"
   ]
  },
  {
   "cell_type": "markdown",
   "metadata": {},
   "source": [
    "#### Plotting ROC Curve for Training Data"
   ]
  },
  {
   "cell_type": "code",
   "execution_count": 18,
   "metadata": {},
   "outputs": [
    {
     "data": {
      "image/png": "[encoded data removed]",
      "text/plain": [
       "<Figure size 432x288 with 1 Axes>"
      ]
     },
     "metadata": {
      "needs_background": "light"
     },
     "output_type": "display_data"
    }
   ],
   "source": [
    "plot_ROC_curve(training_data=train_data,training_label=class_train,testing_data=train_data,theta0=theta0,theta=theta,V=False,no_of_rounds=5)"
   ]
  },
  {
   "cell_type": "markdown",
   "metadata": {},
   "source": [
    "#### Plotting ROC Curve Testing Data"
   ]
  },
  {
   "cell_type": "code",
   "execution_count": 19,
   "metadata": {},
   "outputs": [
    {
     "data": {
      "image/png": "[encoded data removed]",
      "text/plain": [
       "<Figure size 432x288 with 1 Axes>"
      ]
     },
     "metadata": {
      "needs_background": "light"
     },
     "output_type": "display_data"
    }
   ],
   "source": [
    "plot_ROC_curve(training_data=train_data,training_label=class_train,testing_data=test_data,theta0=theta0,theta=theta,V=False,no_of_rounds=5)"
   ]
  }
 ],
 "metadata": {
  "kernelspec": {
   "display_name": "Python 3",
   "language": "python",
   "name": "python3"
  },
  "language_info": {
   "codemirror_mode": {
    "name": "ipython",
    "version": 3
   },
   "file_extension": ".py",
   "mimetype": "text/x-python",
   "name": "python",
   "nbconvert_exporter": "python",
   "pygments_lexer": "ipython3",
   "version": "3.7.6"
  }
 },
 "nbformat": 4,
 "nbformat_minor": 2
}
