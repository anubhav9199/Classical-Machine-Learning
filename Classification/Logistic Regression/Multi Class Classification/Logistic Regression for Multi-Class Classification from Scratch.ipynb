{
 "cells": [
  {
   "cell_type": "markdown",
   "metadata": {},
   "source": [
    "# Logistic Regression from Scratch over MNIST Dataset (Multi-Class Classification)\n",
    "Logistic regression is a statistical model that in its basic form uses a logistic function to model a binary dependent variable, although many more complex extensions exist. In regression analysis, logistic regression (or logit regression) is estimating the parameters of a logistic model (a form of binary regression). It is a Discriminate Learning Algorithm which means that it try to find posterior probability over classes directly without the envolvement of likelihood probabilities.<br>\n",
    "\n",
    "In statistics, the logistic model is used to model the probability of a certain class or event existing such as pass/fail, win/lose, alive/dead, True/False or healthy/sick. <br>\n",
    "\n",
    "This can be extended to Classify several classes of events such as determining whether an image contains a cat, dog, lion, etc.<br>\n",
    "\n",
    "This code contains only about how we can fit a logistic model over user given dataset and also to get a good output result out of it. The code written keeping vision of object oriented programing which means that the code is fully moduler so that to keep in mind about the use of the functions in other programs also.\n",
    "<br>\n",
    "### Importing Libraries"
   ]
  },
  {
   "cell_type": "code",
   "execution_count": 1,
   "metadata": {},
   "outputs": [],
   "source": [
    "import pandas as pd\n",
    "import numpy as np\n",
    "import matplotlib.pyplot as plt\n",
    "from IPython.display import clear_output"
   ]
  },
  {
   "cell_type": "markdown",
   "metadata": {},
   "source": [
    "### Calling Data\n",
    "Data is call for fitting of object classifer created here. The Columns are selected here is according to the DIGIT RECOGNISATION DATASET from Famous MNIST DATASET Easily find on Kaggle(https://www.kaggle.com/oddrationale/mnist-in-csv?select=mnist_train.csv)."
   ]
  },
  {
   "cell_type": "code",
   "execution_count": 2,
   "metadata": {},
   "outputs": [],
   "source": [
    "training_data = pd.read_csv(\"mnist_train.csv\")\n",
    "testing_data = pd.read_csv(\"mnist_test.csv\")"
   ]
  },
  {
   "cell_type": "markdown",
   "metadata": {},
   "source": [
    "### Preprocessing of training and testing data"
   ]
  },
  {
   "cell_type": "markdown",
   "metadata": {},
   "source": [
    "Separating and One Hot Encoding the labels from data"
   ]
  },
  {
   "cell_type": "code",
   "execution_count": 3,
   "metadata": {},
   "outputs": [],
   "source": [
    "training_labels = training_data['label']\n",
    "testing_labels = testing_data['label']\n",
    "C = np.eye(10,10)[training_labels]"
   ]
  },
  {
   "cell_type": "code",
   "execution_count": 4,
   "metadata": {},
   "outputs": [],
   "source": [
    "training_data.drop(['label'],axis=1,inplace=True)\n",
    "training_data = np.array(training_data)\n",
    "testing_data.drop(labels=['label'],axis=1,inplace=True)\n",
    "testing_data = np.array(testing_data)"
   ]
  },
  {
   "cell_type": "markdown",
   "metadata": {},
   "source": [
    "### Softmax Function\n",
    "Defining the Softmax Function. Softmax function is use in the ml to get the probability value (i.e. between 0 to 1) for any feature. The function basically has the formula which make the value equal to probable value of the feature between 0 to 1.<br>\n",
    " Funtion to return Posterior Probabilities\n",
    "### Formula : \n",
    "$$S_ \\theta (x,c) =  \\frac{e^{-{( \\theta^{0Tx} + \\theta_0)}}}{\\sum_{i=0}^{n}e^{-{( \\theta^{i Tx} + \\theta_0^i)}}}$$"
   ]
  },
  {
   "cell_type": "code",
   "execution_count": 5,
   "metadata": {},
   "outputs": [],
   "source": [
    "def softmax_probabilities(t0s,ts,X):\n",
    "    \n",
    "    #print(X.shape,\"\\n\",ts.shape,\"\\n\",t0s.shape)\n",
    "    \n",
    "    likelihood_probabilities = np.exp(np.matmul(X,ts) + t0s)\n",
    "    \n",
    "    #print(likelihood_probabilities.shape)\n",
    "    \n",
    "    normalizing_probabilities = np.sum(likelihood_probabilities,axis=1)\n",
    "    \n",
    "    normalizing_probabilities = normalizing_probabilities.reshape(normalizing_probabilities.shape[0],1)\n",
    "    \n",
    "    #print(normalizing_probabilities.shape)\n",
    "    \n",
    "    posterior_probabilities = (likelihood_probabilities/normalizing_probabilities)\n",
    "    \n",
    "    return posterior_probabilities"
   ]
  },
  {
   "cell_type": "markdown",
   "metadata": {},
   "source": [
    "### Derivative Functions\n",
    "Derivative functions are define to find the derivative of the features to train the model and get the weights for the GDA<br>\n",
    "Funtions to return derivatives with respect to wieghts for GDA\n",
    "### Formula : del by del0s\n",
    "$$\\frac{\\partial }{\\partial \\theta_ \\mathrm{0}}\\mathbf{S_i(\\theta,C)}$$\n",
    "### Formula : del by dels\n",
    "$$\\frac{\\partial }{\\partial \\theta}\\mathbf{S_i(\\theta,C)}$$"
   ]
  },
  {
   "cell_type": "code",
   "execution_count": 6,
   "metadata": {},
   "outputs": [],
   "source": [
    "def delbydel0s(S,C):\n",
    "    \n",
    "    return np.sum((S-C),axis=0)/C.shape[0]"
   ]
  },
  {
   "cell_type": "code",
   "execution_count": 7,
   "metadata": {},
   "outputs": [],
   "source": [
    "def delbydels(S,C,X):\n",
    "    \n",
    "    return np.matmul(X.T,(S-C))/C.shape[0]"
   ]
  },
  {
   "cell_type": "markdown",
   "metadata": {},
   "source": [
    "### Cross Entropy Function \n",
    "Defining Function for Cross Entroy Loss calculation.In Convex Optimization we find the global minima to train the model so it get less error while prediction for the testing and training data. This error is called  as loss. We introduce log and a negative sign in case to smoothing of and inverting the parabola to find the global minima.<br>\n",
    "##### Here, Logrithm is use to smoothing out the curve so that it don't stucked in any local minima. \n",
    "##### Here, Negative sign is introduce to invert the parabola of the function.\n",
    "### Formula : \n",
    "$$L_ \\theta (S,C) = -\\log \\left( \\frac{\\sum_{i=0}^{n}C^i * S_i(\\theta,X)}{One Hot Encode Length(C)}\\right)$$"
   ]
  },
  {
   "cell_type": "code",
   "execution_count": 8,
   "metadata": {},
   "outputs": [],
   "source": [
    "def cross_entropy_loss_with_logits(S,C):\n",
    "    \n",
    "    return -np.sum((np.log(S)*C))/C.shape[0]"
   ]
  },
  {
   "cell_type": "markdown",
   "metadata": {},
   "source": [
    "### Gradient Descent\n",
    "The Fit function is to fit the learning curve and reduce the loss of the model. The algorithm use here is the Stocastic Gradient Descent(SGD). The algorithm is containing the learning rate,epsilon for the stoping of under going algorithm to find global minima."
   ]
  },
  {
   "cell_type": "code",
   "execution_count": 9,
   "metadata": {},
   "outputs": [],
   "source": [
    "def fit(training_data=training_data,epsilon=10**(-4),alpha=10**(-5),one_hot_encode=C):\n",
    "    no_of_labels = one_hot_encode.shape[1]\n",
    "    no_of_columns = training_data.shape[1]\n",
    "    \n",
    "    iterations = []\n",
    "    neg_log_loss_history = []\n",
    "\n",
    "    t0s_initial = np.zeros((1,no_of_labels))\n",
    "    ts_initial = np.zeros((no_of_columns,no_of_labels))\n",
    "\n",
    "    i = 0\n",
    "    print(\"Starting the training over your given data\")\n",
    "    while(True):\n",
    "    \n",
    "        logits_initial = softmax_probabilities(t0s_initial,ts_initial,training_data)\n",
    "\n",
    "\n",
    "\n",
    "        t0s_final = t0s_initial - (alpha * delbydel0s(logits_initial,one_hot_encode))\n",
    "\n",
    "        ts_final = ts_initial - (alpha * delbydels(logits_initial,one_hot_encode,training_data))\n",
    "\n",
    "\n",
    "\n",
    "        logits_final = softmax_probabilities(t0s_final,ts_final,training_data)\n",
    "\n",
    "        if abs(cross_entropy_loss_with_logits(logits_initial,one_hot_encode)-cross_entropy_loss_with_logits(logits_final,one_hot_encode)) < epsilon:\n",
    "\n",
    "            break \n",
    "\n",
    "\n",
    "        iterations.append(i)\n",
    "\n",
    "        neg_log_loss_history.append(cross_entropy_loss_with_logits(logits_initial,one_hot_encode))\n",
    "\n",
    "        t0s_initial = t0s_final\n",
    "\n",
    "        ts_initial = ts_final\n",
    "        \n",
    "        print('Iteration=',i,'\\nLog Loss Value=',neg_log_loss_history[i])\n",
    "        \n",
    "        clear_output(wait=True)\n",
    "\n",
    "        i += 1\n",
    "    print('Iteration=',iterations[-1],'\\nLog Loss Value=',neg_log_loss_history[-1])\n",
    "    print(\"\\nThe training is done and waits are save.....\\nYou can use the weights.....\\nEnjoy\")\n",
    "    plt.xlabel('Iterations')\n",
    "    plt.ylabel('Cross Entropy Loss')\n",
    "    plt.title('Training Loss Curve')\n",
    "    plt.plot(iterations,neg_log_loss_history)\n",
    "    return t0s_final,ts_final"
   ]
  },
  {
   "cell_type": "markdown",
   "metadata": {},
   "source": [
    "### Prediction Function\n",
    "Prediction function is use to get the accuracy of the fitted model over training and testing data so that we can get to know how much accurate over model is trained over training data to predict right output."
   ]
  },
  {
   "cell_type": "code",
   "execution_count": 10,
   "metadata": {},
   "outputs": [],
   "source": [
    "def accuracy_prediction(t0s,ts,testing_data=testing_data,testing_labels=testing_labels):\n",
    "    \n",
    "    testing_data = np.array(testing_data)\n",
    "    \n",
    "    probability_test = softmax_probabilities(t0s,ts,testing_data)\n",
    "    \n",
    "    predicted_classes_test = np.argmax(probability_test,axis=1)\n",
    "    \n",
    "    equal_classes = np.equal(predicted_classes_test,testing_labels)\n",
    "    \n",
    "    accuracy = (np.count_nonzero(equal_classes)/testing_data.shape[0])*100\n",
    "    \n",
    "    return accuracy"
   ]
  },
  {
   "cell_type": "markdown",
   "metadata": {},
   "source": [
    "### Fitting model over Training Data"
   ]
  },
  {
   "cell_type": "code",
   "execution_count": 11,
   "metadata": {},
   "outputs": [
    {
     "name": "stdout",
     "output_type": "stream",
     "text": [
      "Iteration= 355 \n",
      "Log Loss Value= 0.31464701804270195\n",
      "\n",
      "The training is done and waits are save.....\n",
      "You can use the weights.....\n",
      "Enjoy\n"
     ]
    },
    {
     "data": {
      "image/png": "[encoded data removed]",
      "text/plain": [
       "<Figure size 432x288 with 1 Axes>"
      ]
     },
     "metadata": {
      "needs_background": "light"
     },
     "output_type": "display_data"
    }
   ],
   "source": [
    "theta0s,thetas = fit(training_data=training_data)"
   ]
  },
  {
   "cell_type": "markdown",
   "metadata": {},
   "source": [
    "### Predicting result on both the datasets"
   ]
  },
  {
   "cell_type": "markdown",
   "metadata": {},
   "source": [
    "#### Training Accuracy"
   ]
  },
  {
   "cell_type": "code",
   "execution_count": 12,
   "metadata": {},
   "outputs": [
    {
     "name": "stdout",
     "output_type": "stream",
     "text": [
      "Accuracy on training data = 91.25666666666666\n"
     ]
    }
   ],
   "source": [
    "accuracy_train = accuracy_prediction(theta0s,thetas,training_data,training_labels)\n",
    "print('Accuracy on training data =',accuracy_train)"
   ]
  },
  {
   "cell_type": "markdown",
   "metadata": {},
   "source": [
    "#### Testing Accuracy"
   ]
  },
  {
   "cell_type": "code",
   "execution_count": 13,
   "metadata": {},
   "outputs": [
    {
     "name": "stdout",
     "output_type": "stream",
     "text": [
      "Accuracy on testing data = 91.61\n"
     ]
    }
   ],
   "source": [
    "accuracy_test = accuracy_prediction(theta0s,thetas,testing_data,testing_labels)\n",
    "print('Accuracy on testing data =',accuracy_test)"
   ]
  }
 ],
 "metadata": {
  "kernelspec": {
   "display_name": "Python 3",
   "language": "python",
   "name": "python3"
  },
  "language_info": {
   "codemirror_mode": {
    "name": "ipython",
    "version": 3
   },
   "file_extension": ".py",
   "mimetype": "text/x-python",
   "name": "python",
   "nbconvert_exporter": "python",
   "pygments_lexer": "ipython3",
   "version": "3.7.6"
  }
 },
 "nbformat": 4,
 "nbformat_minor": 2
}
