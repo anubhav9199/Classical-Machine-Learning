{
 "cells": [
  {
   "cell_type": "markdown",
   "metadata": {},
   "source": [
    "# Decision Tree Classification from Scratch over Breast Cancer Data(Bi-Class Classification)\n",
    "Decision Tree algorithms are used for both predictions as well as classification in machine learning. Using the decision tree with a given set of inputs, one can map the various outcomes that are a result of the consequences or decisions.<br>\n",
    "Decision Tree Analysis is a general, predictive modelling tool that has applications spanning a number of different areas. In general, decision trees are constructed via an algorithmic approach that identifies ways to split a data set based on different conditions. It is one of the most widely used and practical methods for supervised learning.<br>\n",
    "Decision Trees are a non-parametric supervised learning method used for both classification and regression tasks. The goal is to create a model that predicts the value of a target variable by learning simple decision rules inferred from the data features.<br>\n",
    "The decision rules are generally in form of if-then-else statements. The deeper the tree, the more complex the rules and fitter the model.<br>\n",
    "### Importing Libraries"
   ]
  },
  {
   "cell_type": "code",
   "execution_count": 1,
   "metadata": {},
   "outputs": [],
   "source": [
    "import numpy as np\n",
    "import pandas as pd\n",
    "import matplotlib.pyplot as plt\n",
    "from IPython.display import clear_output"
   ]
  },
  {
   "cell_type": "markdown",
   "metadata": {},
   "source": [
    "### Calling Data\n",
    "Data is call for work. The Columns are selected here is according to the BREAST CANCER DATASET from WINCONSIN Hospital Easily find on Kaggle(www.kaggle.com)."
   ]
  },
  {
   "cell_type": "code",
   "execution_count": 2,
   "metadata": {},
   "outputs": [],
   "source": [
    "data = pd.read_csv('Breast_Cancer_Data.csv')"
   ]
  },
  {
   "cell_type": "markdown",
   "metadata": {},
   "source": [
    "Removing unnecessary columns from the dataset so that you won't face any trouble regarding the dataset. I use Breast Cancer Dataset to train model and predict whether the person is having cancer or not."
   ]
  },
  {
   "cell_type": "code",
   "execution_count": 3,
   "metadata": {},
   "outputs": [],
   "source": [
    "data.drop([data.columns[0],data.columns[32]],axis=1,inplace=True)\n",
    "train_len = int(0.7*data.shape[0])"
   ]
  },
  {
   "cell_type": "markdown",
   "metadata": {},
   "source": [
    "Separating Label Column"
   ]
  },
  {
   "cell_type": "code",
   "execution_count": 4,
   "metadata": {},
   "outputs": [],
   "source": [
    "data.replace(['B','M'],[0,1],inplace=True)\n",
    "labels = data['diagnosis']\n",
    "training_label = labels.iloc[0:train_len]\n",
    "testing_label = labels.iloc[train_len:]"
   ]
  },
  {
   "cell_type": "markdown",
   "metadata": {},
   "source": [
    "### Splitting Training and Testing Data"
   ]
  },
  {
   "cell_type": "code",
   "execution_count": 5,
   "metadata": {},
   "outputs": [],
   "source": [
    "new_data = data.iloc[:,1:3]\n",
    "training_data = new_data.iloc[0:train_len,:].values\n",
    "testing_data = new_data.iloc[train_len:,:].values"
   ]
  },
  {
   "cell_type": "markdown",
   "metadata": {},
   "source": [
    "## Node Class\n",
    "Node Class is the class for designing the tree. Tree is a recursive data structure. hence, we can create it by calling again and again the same functon again and again till the function gets a false value for any condition.<br>\n",
    "Node Class Contain its constructor for carring all the basic data-objects. this structure is fully coded with the approach of learning of a person. It also contains a function for visualising of the tree.<br>\n",
    "#### for Similar code : https://stackoverflow.com/a/54074933/1143396"
   ]
  },
  {
   "cell_type": "code",
   "execution_count": 6,
   "metadata": {},
   "outputs": [],
   "source": [
    "class Node:\n",
    "    \"\"\"A decision tree node.\"\"\"\n",
    "\n",
    "    def __init__(self, gini, num_samples, num_samples_per_class, predicted_class):\n",
    "        self.gini = gini\n",
    "        self.num_samples = num_samples\n",
    "        self.num_samples_per_class = num_samples_per_class\n",
    "        self.predicted_class = predicted_class\n",
    "        self.feature_index = 0\n",
    "        self.threshold = 0\n",
    "        self.left = None\n",
    "        self.right = None\n",
    "\n",
    "    def debug(self, feature_names, class_names, show_details):\n",
    "        \"\"\"Print an ASCII visualization of the tree.\"\"\"\n",
    "        lines, _, _, _ = self._debug_aux(\n",
    "            feature_names, class_names, show_details, root=True\n",
    "        )\n",
    "        for line in lines:\n",
    "            print(line)\n",
    "\n",
    "    def _debug_aux(self, feature_names, class_names, show_details, root=False):\n",
    "        # See https://stackoverflow.com/a/54074933/1143396 for similar code.\n",
    "        is_leaf = not self.right\n",
    "        if is_leaf:\n",
    "            lines = [class_names[self.predicted_class]]\n",
    "        else:\n",
    "            lines = [\n",
    "                \"{} < {:.2f}\".format(feature_names[self.feature_index], self.threshold)\n",
    "            ]\n",
    "        if show_details:\n",
    "            lines += [\n",
    "                \"gini = {:.2f}\".format(self.gini),\n",
    "                \"samples = {}\".format(self.num_samples),\n",
    "                str(self.num_samples_per_class),\n",
    "            ]\n",
    "        width = max(len(line) for line in lines)\n",
    "        height = len(lines)\n",
    "        if is_leaf:\n",
    "            lines = [\"║ {:^{width}} ║\".format(line, width=width) for line in lines]\n",
    "            lines.insert(0, \"╔\" + \"═\" * (width + 2) + \"╗\")\n",
    "            lines.append(\"╚\" + \"═\" * (width + 2) + \"╝\")\n",
    "        else:\n",
    "            lines = [\"│ {:^{width}} │\".format(line, width=width) for line in lines]\n",
    "            lines.insert(0, \"┌\" + \"─\" * (width + 2) + \"┐\")\n",
    "            lines.append(\"└\" + \"─\" * (width + 2) + \"┘\")\n",
    "            lines[-2] = \"┤\" + lines[-2][1:-1] + \"├\"\n",
    "        width += 4  # for padding\n",
    "\n",
    "        if is_leaf:\n",
    "            middle = width // 2\n",
    "            lines[0] = lines[0][:middle] + \"╧\" + lines[0][middle + 1 :]\n",
    "            return lines, width, height, middle\n",
    "\n",
    "        # If not a leaf, must have two children.\n",
    "        left, n, p, x = self.left._debug_aux(feature_names, class_names, show_details)\n",
    "        right, m, q, y = self.right._debug_aux(feature_names, class_names, show_details)\n",
    "        top_lines = [n * \" \" + line + m * \" \" for line in lines[:-2]]\n",
    "        # fmt: off\n",
    "        middle_line = x * \" \" + \"┌\" + (n - x - 1) * \"─\" + lines[-2] + y * \"─\" + \"┐\" + (m - y - 1) * \" \"\n",
    "        bottom_line = x * \" \" + \"│\" + (n - x - 1) * \" \" + lines[-1] + y * \" \" + \"│\" + (m - y - 1) * \" \"\n",
    "        # fmt: on\n",
    "        if p < q:\n",
    "            left += [n * \" \"] * (q - p)\n",
    "        elif q < p:\n",
    "            right += [m * \" \"] * (p - q)\n",
    "        zipped_lines = zip(left, right)\n",
    "        lines = (\n",
    "            top_lines\n",
    "            + [middle_line, bottom_line]\n",
    "            + [a + width * \" \" + b for a, b in zipped_lines]\n",
    "        )\n",
    "        middle = n + width // 2\n",
    "        if not root:\n",
    "            lines[0] = lines[0][:middle] + \"┴\" + lines[0][middle + 1 :]\n",
    "        return lines, n + m + width, max(p, q) + 2 + len(top_lines), middle"
   ]
  },
  {
   "cell_type": "markdown",
   "metadata": {},
   "source": [
    "## Classifier Class (Decision Tree)\n",
    "Decision trees are constructed via an algorithmic approach that identifies ways to split a data set based on different conditions. It is one of the most widely used and practical methods for supervised learning. Decision Trees are a non-parametric supervised learning method used for both classification and regression tasks.<br>\n",
    "Classifier Class work to fit anf learn the training data by creating split diversion in the data also it divides the data accordingly.\n",
    "# ----------------------------------------------------------------------------------------------------------\n",
    "### Gini Impurity\n",
    "Decision trees use the concept of Gini impurity to describe how homogeneous or “pure” a node is. A node is pure (G = 0) if all its samples belong to the same class, while a node with many samples from many different classes will have a Gini closer to 1.\n",
    "#### Formula : \n",
    "$$\\mathbf{G}_{\\mathbf{i}} = \\mathbf{1} - \\sum_{k=1}^{n} Pk^2$$\n",
    "but we use another formula because for big dataset thi hypothatical formula doesn't work well. The resulting Gini is a simple weighted average: \n",
    "#### Main Formula (Use here) :\n",
    "$$\\mathbf{G}_{\\mathbf{i}} = \\left(\\frac{\\mathbf{i}}{\\mathbf{m}}\\right)\\mathbf{G}_{\\mathbf{i}}^{\\mathbf{left}} + \\left(\\frac{\\mathbf{m-i}}{\\mathbf{m}}\\right)\\mathbf{G}_{\\mathbf{i}}^{\\mathbf{right}}$$\n",
    "### ------------------------------------------------------------------------------------------------------------------------------------------------------\n",
    "### Grow Tree\n",
    "This function is use to create a decision tree. The function use Node class to create the node."
   ]
  },
  {
   "cell_type": "code",
   "execution_count": 7,
   "metadata": {},
   "outputs": [],
   "source": [
    "class DecisionTreeClassifier:\n",
    "    def __init__(self, max_depth=5):\n",
    "        self.max_depth = max_depth\n",
    "    \n",
    "    def debug(self, feature_names, class_names, show_details=True):\n",
    "        \"\"\"Print ASCII visualization of decision tree.\"\"\"\n",
    "        self.tree_.debug(feature_names, class_names, show_details)\n",
    "\n",
    "    def _gini(self, y):\n",
    "        \"\"\"Compute Gini impurity of a non-empty node.\n",
    "        Gini impurity is defined as Σ p(1-p) over all classes, with p the frequency of a\n",
    "        class within the node. Since Σ p = 1, this is equivalent to 1 - Σ p^2.\n",
    "        \"\"\"\n",
    "        m = y.size\n",
    "        return 1.0 - sum((np.sum(y == c) / m) ** 2 for c in range(self.n_classes_))\n",
    "\n",
    "    def _best_split(self, X, y):\n",
    "        \"\"\"Find the best split for a node.\n",
    "        \"Best\" means that the average impurity of the two children, weighted by their\n",
    "        population, is the smallest possible. Additionally it must be less than the\n",
    "        impurity of the current node.\n",
    "        To find the best split, we loop through all the features, and consider all the\n",
    "        midpoints between adjacent training samples as possible thresholds. We compute\n",
    "        the Gini impurity of the split generated by that particular feature/threshold\n",
    "        pair, and return the pair with smallest impurity.\n",
    "        Returns:\n",
    "            best_idx: Index of the feature for best split, or None if no split is found.\n",
    "            best_thr: Threshold to use for the split, or None if no split is found.\n",
    "        \"\"\"\n",
    "        # Need at least two elements to split a node.\n",
    "        m = y.size\n",
    "        if m <= 1:\n",
    "            return None, None\n",
    "\n",
    "        # Count of each class in the current node.\n",
    "        num_parent = [np.sum(y == c) for c in range(self.n_classes_)]\n",
    "\n",
    "        # Gini of current node.\n",
    "        best_gini = 1.0 - sum((n / m) ** 2 for n in num_parent)\n",
    "        best_idx, best_thr = None, None\n",
    "\n",
    "        # Loop through all features.\n",
    "        for idx in range(self.n_features_):\n",
    "            # Sort data along selected feature.\n",
    "            thresholds, classes = zip(*sorted(zip(X[:, idx], y)))\n",
    "\n",
    "            # We could actually split the node according to each feature/threshold pair\n",
    "            # and count the resulting population for each class in the children, but\n",
    "            # instead we compute them in an iterative fashion, making this for loop\n",
    "            # linear rather than quadratic.\n",
    "            num_left = [0] * self.n_classes_\n",
    "            num_right = num_parent.copy()\n",
    "            for i in range(1, m):  # possible split positions\n",
    "                c = classes[i - 1]\n",
    "                num_left[c] += 1\n",
    "                num_right[c] -= 1\n",
    "                gini_left = 1.0 - sum(\n",
    "                    (num_left[x] / i) ** 2 for x in range(self.n_classes_)\n",
    "                )\n",
    "                gini_right = 1.0 - sum(\n",
    "                    (num_right[x] / (m - i)) ** 2 for x in range(self.n_classes_)\n",
    "                )\n",
    "\n",
    "                # The Gini impurity of a split is the weighted average of the Gini\n",
    "                # impurity of the children.\n",
    "                gini = (i * gini_left + (m - i) * gini_right) / m\n",
    "\n",
    "                # The following condition is to make sure we don't try to split two\n",
    "                # points with identical values for that feature, as it is impossible\n",
    "                # (both have to end up on the same side of a split).\n",
    "                if thresholds[i] == thresholds[i - 1]:\n",
    "                    continue\n",
    "\n",
    "                if gini < best_gini:\n",
    "                    best_gini = gini\n",
    "                    best_idx = idx\n",
    "                    best_thr = (thresholds[i] + thresholds[i - 1]) / 2  # midpoint\n",
    "        return best_idx, best_thr\n",
    "    \n",
    "    def fit(self, X, y):\n",
    "        \"\"\"Build decision tree classifier.\"\"\"\n",
    "        print(\"\\nTraining Start.....\\n\")\n",
    "        self.n_classes_ = len(set(y))  # classes are assumed to go from 0 to n-1\n",
    "        self.n_features_ = X.shape[1]\n",
    "        self.tree_ = self._grow_tree(X, y)\n",
    "        print(\"\\nTraining Finish...!!!\\nEnjoy....!!!\")\n",
    "\n",
    "    def _grow_tree(self, X, y, depth=0):\n",
    "        \"\"\"Build a decision tree by recursively finding the best split.\"\"\"\n",
    "        # Population for each class in current node. The predicted class is the one with\n",
    "        # largest population.\n",
    "        print(\"Training......\")\n",
    "        clear_output(wait=True)\n",
    "        num_samples_per_class = [np.sum(y == i) for i in range(self.n_classes_)]\n",
    "        predicted_class = np.argmax(num_samples_per_class)\n",
    "        node = Node(\n",
    "            gini=self._gini(y),\n",
    "            num_samples=y.size,\n",
    "            num_samples_per_class=num_samples_per_class,\n",
    "            predicted_class=predicted_class,\n",
    "        )\n",
    "\n",
    "        # Split recursively until maximum depth is reached.\n",
    "        if depth < self.max_depth:\n",
    "            idx, thr = self._best_split(X, y)\n",
    "            if idx is not None:\n",
    "                indices_left = X[:, idx] < thr\n",
    "                X_left, y_left = X[indices_left], y[indices_left]\n",
    "                X_right, y_right = X[~indices_left], y[~indices_left]\n",
    "                node.feature_index = idx\n",
    "                node.threshold = thr\n",
    "                node.left = self._grow_tree(X_left, y_left, depth + 1)\n",
    "                node.right = self._grow_tree(X_right, y_right, depth + 1)\n",
    "        return node\n",
    "    \n",
    "    def predict(self, X):\n",
    "        return [self._predict(inputs) for inputs in X]\n",
    "\n",
    "    def _predict(self, inputs):\n",
    "        \"\"\"Predict class for a single sample.\"\"\"\n",
    "        node = self.tree_\n",
    "        while node.left:\n",
    "            if inputs[node.feature_index] < node.threshold:\n",
    "                node = node.left\n",
    "            else:\n",
    "                node = node.right\n",
    "        return node.predicted_class"
   ]
  },
  {
   "cell_type": "markdown",
   "metadata": {},
   "source": [
    "### Prediction Function\n",
    "Prediction function is use to get the accuracy of the fitted model over training and testing data so that we can get to know how much accurate over model is trained over training data to predict right output."
   ]
  },
  {
   "cell_type": "code",
   "execution_count": 8,
   "metadata": {},
   "outputs": [],
   "source": [
    "def accuracy_test(model,testing_data,testing_label):\n",
    "    predict = model.predict(testing_data)\n",
    "    accuracy = (np.count_nonzero(np.equal(testing_label,predict))/testing_data.shape[0])*100\n",
    "    return accuracy"
   ]
  },
  {
   "cell_type": "markdown",
   "metadata": {},
   "source": [
    "## Main Function"
   ]
  },
  {
   "cell_type": "code",
   "execution_count": 9,
   "metadata": {},
   "outputs": [
    {
     "name": "stdout",
     "output_type": "stream",
     "text": [
      "\n",
      "Training Finish...!!!\n",
      "Enjoy....!!!\n"
     ]
    }
   ],
   "source": [
    "regressor = DecisionTreeClassifier()\n",
    "regressor.fit(training_data, training_label)"
   ]
  },
  {
   "cell_type": "markdown",
   "metadata": {},
   "source": [
    "### Predicting result on both the datasets"
   ]
  },
  {
   "cell_type": "markdown",
   "metadata": {},
   "source": [
    "#### Training Accuracy"
   ]
  },
  {
   "cell_type": "code",
   "execution_count": 10,
   "metadata": {},
   "outputs": [
    {
     "data": {
      "text/plain": [
       "93.96984924623115"
      ]
     },
     "execution_count": 10,
     "metadata": {},
     "output_type": "execute_result"
    }
   ],
   "source": [
    "train_accuracy=accuracy_test(regressor,training_data,training_label)\n",
    "train_accuracy"
   ]
  },
  {
   "cell_type": "markdown",
   "metadata": {},
   "source": [
    "#### Testing Accuracy"
   ]
  },
  {
   "cell_type": "code",
   "execution_count": 11,
   "metadata": {},
   "outputs": [
    {
     "data": {
      "text/plain": [
       "85.38011695906432"
      ]
     },
     "execution_count": 11,
     "metadata": {},
     "output_type": "execute_result"
    }
   ],
   "source": [
    "test_accuracy = accuracy_test(regressor,testing_data,testing_label)\n",
    "test_accuracy"
   ]
  },
  {
   "cell_type": "markdown",
   "metadata": {},
   "source": [
    "## Visualising Tree"
   ]
  },
  {
   "cell_type": "markdown",
   "metadata": {},
   "source": [
    "### Training Data Tree"
   ]
  },
  {
   "cell_type": "code",
   "execution_count": 12,
   "metadata": {
    "scrolled": true
   },
   "outputs": [
    {
     "name": "stdout",
     "output_type": "stream",
     "text": [
      "                                                                                                                                                                                                                                                                                                                                                                                                                                                                                                                                                                                                           ┌───────────────────────────────────┐                                                                                                                                                                                                                                                                                                                                                                                                                                                           \n",
      "                                                                                                                                                                                                                                                                                                                             ┌─────────────────────────────────────────────────────────────────────────────────────────────────────────────────────────────────────────────────────────────────────────────────────────────────────────────────────────────────────────────────────────────────────────────┤ radius_mean [17.99 10.38] < 14.45 ├─────────────────────────────────────────────────────────────────────────────────────────────────────────────────────────────────────────────────────────────────────────────────────────────────────────────────────────────────────────────────────────────────────────────┐                                                                                                                                                                             \n",
      "                                                                                                                                                                                                                                                                                                                             │                                                                                                                                                                                                                                                                             └───────────────────────────────────┘                                                                                                                                                                                                                                                                             │                                                                                                                                                                             \n",
      "                                                                                                                                                                                                                                                                                                           ┌─────────────────┴─────────────────┐                                                                                                                                                                                                                                                                                                                                                                                                                                                                                                                                                           ┌─────────────────┴─────────────────┐                                                                                                                                                           \n",
      "                                                                                                                                                                             ┌─────────────────────────────────────────────────────────────────────────────────────────────────────────────────────────────┤ radius_mean [20.57 17.77] < 20.25 ├─────────────────────────────────────────────────────────────────────────────────────────────────────────────────────────────┐                                                                                                                                                                                                                                                                                               ┌─────────────────────────────────────────────────────────────────────────────────────────────────────────────────────────────┤ radius_mean [17.99 10.38] < 15.27 ├─────────────────────────────────────────────────────────────────────────────────────────────────────────────────────────────┐                             \n",
      "                                                                                                                                                                             │                                                                                                                             └───────────────────────────────────┘                                                                                                                             │                                                                                                                                                                                                                                                                                               │                                                                                                                             └───────────────────────────────────┘                                                                                                                             │                             \n",
      "                                                                                                                                                           ┌─────────────────┴─────────────────┐                                                                                                                                                                                                                                                           ┌─────────────────┴─────────────────┐                                                                                                                                                                                                                                                           ┌─────────────────┴─────────────────┐                                                                                                                                                                                                                                                           ┌─────────────────┴─────────────────┐           \n",
      "                                                                             ┌─────────────────────────────────────────────────────────────────────────────┤ radius_mean [17.99 10.38] < 13.79 ├─────────────────────────────┐                                                                                                                                               ┌─────────────────────────────────────────────────────────────────────────────┤ radius_mean [17.99 10.38] < 12.66 ├─────────────────────────────────────────────────────────────────────────────┐                                                                                               ┌─────────────────────────────────────────────────────────────────────────────┤ radius_mean [20.57 17.77] < 19.80 ├─────────────────────────────┐                                                                                                                                                                                               ┌─────────────────────────────┤ radius_mean [17.99 10.38] < 16.93 ├─────┐     \n",
      "                                                                             │                                                                             └───────────────────────────────────┘                             │                                                                                                                                               │                                                                             └───────────────────────────────────┘                                                                             │                                                                                               │                                                                             └───────────────────────────────────┘                             │                                                                                                                                                                                               │                             └───────────────────────────────────┘     │     \n",
      "                                                           ┌─────────────────┴─────────────────┐                                                                                                           ┌─────────────────┴─────────────────┐                                                                                                           ┌─────────────────┴─────────────────┐                                                                                                                                                           ┌─────────────────┴─────────────────┐                                                           ┌─────────────────┴─────────────────┐                                                                                                           ┌─────────────────┴─────────────────┐                                                                                                                                                           ┌─────────────────┴─────────────────┐                                                ╔════╧════╗\n",
      "                             ┌─────────────────────────────┤ radius_mean [20.57 17.77] < 18.63 ├─────────────────────────────┐                                                                       ┌─────┤ radius_mean [17.99 10.38] < 13.82 ├─────────────────────────────┐                                                                       ┌─────┤ radius_mean [20.57 17.77] < 20.38 ├─────────────────────────────┐                                                                                               ┌─────────────────────────────┤ radius_mean [20.57 17.77] < 26.41 ├─────┐                                               ┌─────┤ radius_mean [20.57 17.77] < 16.53 ├─────────────────────────────┐                                                                       ┌─────┤ radius_mean [20.57 17.77] < 23.98 ├─────────────────────────────┐                                                                                               ┌─────────────────────────────┤ radius_mean [17.99 10.38] < 16.81 ├─────┐                                          ║ class 1 ║\n",
      "                             │                             └───────────────────────────────────┘                             │                                                                       │     └───────────────────────────────────┘                             │                                                                       │     └───────────────────────────────────┘                             │                                                                                               │                             └───────────────────────────────────┘     │                                               │     └───────────────────────────────────┘                             │                                                                       │     └───────────────────────────────────┘                             │                                                                                               │                             └───────────────────────────────────┘     │                                          ╚═════════╝\n",
      "           ┌─────────────────┴─────────────────┐                                                           ┌─────────────────┴─────────────────┐                                                ╔════╧════╗                                                ┌─────────────────┴─────────────────┐                                                ╔════╧════╗                                                ┌─────────────────┴─────────────────┐                                                           ┌─────────────────┴─────────────────┐                                                ╔════╧════╗                                     ╔════╧════╗                                                ┌─────────────────┴─────────────────┐                                                ╔════╧════╗                                                ┌─────────────────┴─────────────────┐                                                           ┌─────────────────┴─────────────────┐                                                ╔════╧════╗                                                \n",
      "     ┌─────┤ radius_mean [17.99 10.38] < 11.75 ├─────┐                                               ┌─────┤ radius_mean [20.57 17.77] < 18.84 ├─────┐                                          ║ class 1 ║                                          ┌─────┤ radius_mean [20.57 17.77] < 19.75 ├─────┐                                          ║ class 1 ║                                          ┌─────┤ radius_mean [17.99 10.38] < 12.26 ├─────┐                                               ┌─────┤ radius_mean [17.99 10.38] < 13.60 ├─────┐                                          ║ class 1 ║                                     ║ class 1 ║                                          ┌─────┤ radius_mean [20.57 17.77] < 18.17 ├─────┐                                          ║ class 1 ║                                          ┌─────┤ radius_mean [20.57 17.77] < 24.61 ├─────┐                                               ┌─────┤ radius_mean [20.57 17.77] < 18.53 ├─────┐                                          ║ class 1 ║                                                \n",
      "     │     └───────────────────────────────────┘     │                                               │     └───────────────────────────────────┘     │                                          ╚═════════╝                                          │     └───────────────────────────────────┘     │                                          ╚═════════╝                                          │     └───────────────────────────────────┘     │                                               │     └───────────────────────────────────┘     │                                          ╚═════════╝                                     ╚═════════╝                                          │     └───────────────────────────────────┘     │                                          ╚═════════╝                                          │     └───────────────────────────────────┘     │                                               │     └───────────────────────────────────┘     │                                          ╚═════════╝                                                \n",
      "╔════╧════╗                                     ╔════╧════╗                                     ╔════╧════╗                                     ╔════╧════╗                                                                                     ╔════╧════╗                                     ╔════╧════╗                                                                                     ╔════╧════╗                                     ╔════╧════╗                                     ╔════╧════╗                                     ╔════╧════╗                                                                                                                                     ╔════╧════╗                                     ╔════╧════╗                                                                                     ╔════╧════╗                                     ╔════╧════╗                                     ╔════╧════╗                                     ╔════╧════╗                                                                                                \n",
      "║ class 1 ║                                     ║ class 1 ║                                     ║ class 1 ║                                     ║ class 1 ║                                                                                     ║ class 1 ║                                     ║ class 1 ║                                                                                     ║ class 1 ║                                     ║ class 1 ║                                     ║ class 1 ║                                     ║ class 1 ║                                                                                                                                     ║ class 1 ║                                     ║ class 1 ║                                                                                     ║ class 1 ║                                     ║ class 1 ║                                     ║ class 1 ║                                     ║ class 1 ║                                                                                                \n",
      "╚═════════╝                                     ╚═════════╝                                     ╚═════════╝                                     ╚═════════╝                                                                                     ╚═════════╝                                     ╚═════════╝                                                                                     ╚═════════╝                                     ╚═════════╝                                     ╚═════════╝                                     ╚═════════╝                                                                                                                                     ╚═════════╝                                     ╚═════════╝                                                                                     ╚═════════╝                                     ╚═════════╝                                     ╚═════════╝                                     ╚═════════╝                                                                                                \n"
     ]
    }
   ],
   "source": [
    "regressor.debug(\n",
    "    feature_names=[\"radius_mean {}\".format(i) for i in training_data]\n",
    "    ,class_names=[\"class {}\".format(i) for i in training_label]\n",
    "    ,show_details=False\n",
    ")"
   ]
  },
  {
   "cell_type": "markdown",
   "metadata": {},
   "source": [
    "### Testing Data Tree"
   ]
  },
  {
   "cell_type": "code",
   "execution_count": 13,
   "metadata": {},
   "outputs": [
    {
     "name": "stdout",
     "output_type": "stream",
     "text": [
      "                                                                                                                                                                                                                                                                                                                                                                                                                                                                                                                                                                                                           ┌───────────────────────────────────┐                                                                                                                                                                                                                                                                                                                                                                                                                                                           \n",
      "                                                                                                                                                                                                                                                                                                                             ┌─────────────────────────────────────────────────────────────────────────────────────────────────────────────────────────────────────────────────────────────────────────────────────────────────────────────────────────────────────────────────────────────────────────────┤ radius_mean [11.06 14.83] < 14.45 ├─────────────────────────────────────────────────────────────────────────────────────────────────────────────────────────────────────────────────────────────────────────────────────────────────────────────────────────────────────────────────────────────────────────────┐                                                                                                                                                                             \n",
      "                                                                                                                                                                                                                                                                                                                             │                                                                                                                                                                                                                                                                             └───────────────────────────────────┘                                                                                                                                                                                                                                                                             │                                                                                                                                                                             \n",
      "                                                                                                                                                                                                                                                                                                           ┌─────────────────┴─────────────────┐                                                                                                                                                                                                                                                                                                                                                                                                                                                                                                                                                           ┌─────────────────┴─────────────────┐                                                                                                                                                           \n",
      "                                                                                                                                                                             ┌─────────────────────────────────────────────────────────────────────────────────────────────────────────────────────────────┤ radius_mean [11.8  17.26] < 20.25 ├─────────────────────────────────────────────────────────────────────────────────────────────────────────────────────────────┐                                                                                                                                                                                                                                                                                               ┌─────────────────────────────────────────────────────────────────────────────────────────────────────────────────────────────┤ radius_mean [11.06 14.83] < 15.27 ├─────────────────────────────────────────────────────────────────────────────────────────────────────────────────────────────┐                             \n",
      "                                                                                                                                                                             │                                                                                                                             └───────────────────────────────────┘                                                                                                                             │                                                                                                                                                                                                                                                                                               │                                                                                                                             └───────────────────────────────────┘                                                                                                                             │                             \n",
      "                                                                                                                                                           ┌─────────────────┴─────────────────┐                                                                                                                                                                                                                                                           ┌─────────────────┴─────────────────┐                                                                                                                                                                                                                                                           ┌─────────────────┴─────────────────┐                                                                                                                                                                                                                                                           ┌─────────────────┴─────────────────┐           \n",
      "                                                                             ┌─────────────────────────────────────────────────────────────────────────────┤ radius_mean [11.06 14.83] < 13.79 ├─────────────────────────────┐                                                                                                                                               ┌─────────────────────────────────────────────────────────────────────────────┤ radius_mean [11.06 14.83] < 12.66 ├─────────────────────────────────────────────────────────────────────────────┐                                                                                               ┌─────────────────────────────────────────────────────────────────────────────┤ radius_mean [11.8  17.26] < 19.80 ├─────────────────────────────┐                                                                                                                                                                                               ┌─────────────────────────────┤ radius_mean [11.06 14.83] < 16.93 ├─────┐     \n",
      "                                                                             │                                                                             └───────────────────────────────────┘                             │                                                                                                                                               │                                                                             └───────────────────────────────────┘                                                                             │                                                                                               │                                                                             └───────────────────────────────────┘                             │                                                                                                                                                                                               │                             └───────────────────────────────────┘     │     \n",
      "                                                           ┌─────────────────┴─────────────────┐                                                                                                           ┌─────────────────┴─────────────────┐                                                                                                           ┌─────────────────┴─────────────────┐                                                                                                                                                           ┌─────────────────┴─────────────────┐                                                           ┌─────────────────┴─────────────────┐                                                                                                           ┌─────────────────┴─────────────────┐                                                                                                                                                           ┌─────────────────┴─────────────────┐                                                ╔════╧════╗\n",
      "                             ┌─────────────────────────────┤ radius_mean [11.8  17.26] < 18.63 ├─────────────────────────────┐                                                                       ┌─────┤ radius_mean [11.06 14.83] < 13.82 ├─────────────────────────────┐                                                                       ┌─────┤ radius_mean [11.8  17.26] < 20.38 ├─────────────────────────────┐                                                                                               ┌─────────────────────────────┤ radius_mean [11.8  17.26] < 26.41 ├─────┐                                               ┌─────┤ radius_mean [11.8  17.26] < 16.53 ├─────────────────────────────┐                                                                       ┌─────┤ radius_mean [11.8  17.26] < 23.98 ├─────────────────────────────┐                                                                                               ┌─────────────────────────────┤ radius_mean [11.06 14.83] < 16.81 ├─────┐                                          ║ class 0 ║\n",
      "                             │                             └───────────────────────────────────┘                             │                                                                       │     └───────────────────────────────────┘                             │                                                                       │     └───────────────────────────────────┘                             │                                                                                               │                             └───────────────────────────────────┘     │                                               │     └───────────────────────────────────┘                             │                                                                       │     └───────────────────────────────────┘                             │                                                                                               │                             └───────────────────────────────────┘     │                                          ╚═════════╝\n",
      "           ┌─────────────────┴─────────────────┐                                                           ┌─────────────────┴─────────────────┐                                                ╔════╧════╗                                                ┌─────────────────┴─────────────────┐                                                ╔════╧════╗                                                ┌─────────────────┴─────────────────┐                                                           ┌─────────────────┴─────────────────┐                                                ╔════╧════╗                                     ╔════╧════╗                                                ┌─────────────────┴─────────────────┐                                                ╔════╧════╗                                                ┌─────────────────┴─────────────────┐                                                           ┌─────────────────┴─────────────────┐                                                ╔════╧════╗                                                \n",
      "     ┌─────┤ radius_mean [11.06 14.83] < 11.75 ├─────┐                                               ┌─────┤ radius_mean [11.8  17.26] < 18.84 ├─────┐                                          ║ class 0 ║                                          ┌─────┤ radius_mean [11.8  17.26] < 19.75 ├─────┐                                          ║ class 0 ║                                          ┌─────┤ radius_mean [11.06 14.83] < 12.26 ├─────┐                                               ┌─────┤ radius_mean [11.06 14.83] < 13.60 ├─────┐                                          ║ class 0 ║                                     ║ class 0 ║                                          ┌─────┤ radius_mean [11.8  17.26] < 18.17 ├─────┐                                          ║ class 0 ║                                          ┌─────┤ radius_mean [11.8  17.26] < 24.61 ├─────┐                                               ┌─────┤ radius_mean [11.8  17.26] < 18.53 ├─────┐                                          ║ class 0 ║                                                \n",
      "     │     └───────────────────────────────────┘     │                                               │     └───────────────────────────────────┘     │                                          ╚═════════╝                                          │     └───────────────────────────────────┘     │                                          ╚═════════╝                                          │     └───────────────────────────────────┘     │                                               │     └───────────────────────────────────┘     │                                          ╚═════════╝                                     ╚═════════╝                                          │     └───────────────────────────────────┘     │                                          ╚═════════╝                                          │     └───────────────────────────────────┘     │                                               │     └───────────────────────────────────┘     │                                          ╚═════════╝                                                \n",
      "╔════╧════╗                                     ╔════╧════╗                                     ╔════╧════╗                                     ╔════╧════╗                                                                                     ╔════╧════╗                                     ╔════╧════╗                                                                                     ╔════╧════╗                                     ╔════╧════╗                                     ╔════╧════╗                                     ╔════╧════╗                                                                                                                                     ╔════╧════╗                                     ╔════╧════╗                                                                                     ╔════╧════╗                                     ╔════╧════╗                                     ╔════╧════╗                                     ╔════╧════╗                                                                                                \n",
      "║ class 0 ║                                     ║ class 0 ║                                     ║ class 0 ║                                     ║ class 0 ║                                                                                     ║ class 0 ║                                     ║ class 0 ║                                                                                     ║ class 0 ║                                     ║ class 0 ║                                     ║ class 0 ║                                     ║ class 0 ║                                                                                                                                     ║ class 0 ║                                     ║ class 0 ║                                                                                     ║ class 0 ║                                     ║ class 0 ║                                     ║ class 0 ║                                     ║ class 0 ║                                                                                                \n",
      "╚═════════╝                                     ╚═════════╝                                     ╚═════════╝                                     ╚═════════╝                                                                                     ╚═════════╝                                     ╚═════════╝                                                                                     ╚═════════╝                                     ╚═════════╝                                     ╚═════════╝                                     ╚═════════╝                                                                                                                                     ╚═════════╝                                     ╚═════════╝                                                                                     ╚═════════╝                                     ╚═════════╝                                     ╚═════════╝                                     ╚═════════╝                                                                                                \n"
     ]
    }
   ],
   "source": [
    "regressor.debug(\n",
    "    feature_names=[\"radius_mean {}\".format(i) for i in testing_data]\n",
    "    ,class_names=[\"class {}\".format(i) for i in testing_label]\n",
    "    ,show_details=False\n",
    ")"
   ]
  }
 ],
 "metadata": {
  "kernelspec": {
   "display_name": "Python 3",
   "language": "python",
   "name": "python3"
  },
  "language_info": {
   "codemirror_mode": {
    "name": "ipython",
    "version": 3
   },
   "file_extension": ".py",
   "mimetype": "text/x-python",
   "name": "python",
   "nbconvert_exporter": "python",
   "pygments_lexer": "ipython3",
   "version": "3.7.6"
  }
 },
 "nbformat": 4,
 "nbformat_minor": 4
}
