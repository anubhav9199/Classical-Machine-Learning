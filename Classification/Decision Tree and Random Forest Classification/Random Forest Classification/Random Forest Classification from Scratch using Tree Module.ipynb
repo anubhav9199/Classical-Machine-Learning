{
 "cells": [
  {
   "cell_type": "markdown",
   "metadata": {},
   "source": [
    "# Random Forest Classification from Scratch using Tree Function\n",
    "Every decision tree has high variance, but when we combine all of them together in parallel then the resultant variance is low as each decision tree gets perfectly trained on that particular sample data and hence the output doesn’t depend on one decision tree but multiple decision trees. In the case of a classification problem, the final output is taken by using the majority voting classifier. In the case of a regression problem, the final output is the mean of all the outputs.<br>\n",
    "A Random Forest is an ensemble technique capable of performing both regression and classification tasks with the use of multiple decision trees and a technique called Bootstrap and Aggregation, commonly known as bagging. The basic idea behind this is to combine multiple decision trees in determining the final output rather than relying on individual decision trees.<br>\n",
    "Random Forest work on three functions :-<br>\n",
    "(1) Boot Strapping<br>\n",
    "(2) Random Subspace<br>\n",
    "(3) Prediction\n",
    "# ----------------------------------------------------------------------------------------------------------------------------------------------------------\n",
    "## Importing Libraries\n",
    "The Random Forest Algorithm is use from tree module fully Created By Anubhav Sharma"
   ]
  },
  {
   "cell_type": "code",
   "execution_count": 1,
   "metadata": {},
   "outputs": [],
   "source": [
    "import numpy as np\n",
    "import pandas as pd\n",
    "import matplotlib.pyplot as plt\n",
    "import random\n",
    "from pprint import pprint\n",
    "%matplotlib inline\n",
    "\n",
    "from Tree.DecisionTreeFunction import DecisionTreeAlgorithm, DecisionTreePrediction\n",
    "from Tree.HelperFunction import train_test_split, calculate_accuracy\n",
    "from Tree.RandomForestFunction import RandomForestAlgorithm, RandomForestPrediction"
   ]
  },
  {
   "cell_type": "markdown",
   "metadata": {},
   "source": [
    "# Dataset 1 (Continuous)"
   ]
  },
  {
   "cell_type": "markdown",
   "metadata": {},
   "source": [
    "# ----------------------------------------------------------------------------------------------------------------------------------------------------------\n",
    "### Calling Data\n",
    "Data is call for work. The Columns are selected here is according to the WINE QUALITY DATASET of RED WINE find on Kaggle(www.kaggle.com).<br>\n",
    "Creating Dataset from original columns from the dataset so that you won't face any trouble regarding the dataset. I use Wine Quality Dataset to train model and predict whether the wine is having good or bad Quality."
   ]
  },
  {
   "cell_type": "code",
   "execution_count": 2,
   "metadata": {},
   "outputs": [],
   "source": [
    "wine_df = pd.read_csv(\"./Dataset/Wine Quality Dataset/winequality-red.csv\")"
   ]
  },
  {
   "cell_type": "markdown",
   "metadata": {},
   "source": [
    "## Preprocessing of data"
   ]
  },
  {
   "cell_type": "code",
   "execution_count": 3,
   "metadata": {},
   "outputs": [],
   "source": [
    "wine_df[\"label\"] = wine_df.quality\n",
    "wine_df = wine_df.drop(\"quality\", axis=1)\n",
    "\n",
    "column_names = []\n",
    "for column in wine_df.columns:\n",
    "    name = column.replace(\" \", \"_\")\n",
    "    column_names.append(name)\n",
    "wine_df.columns = column_names"
   ]
  },
  {
   "cell_type": "markdown",
   "metadata": {},
   "source": [
    "#### Ploting Wine Quality"
   ]
  },
  {
   "cell_type": "code",
   "execution_count": 4,
   "metadata": {},
   "outputs": [
    {
     "data": {
      "text/plain": [
       "<matplotlib.axes._subplots.AxesSubplot at 0x7fa6c54a8550>"
      ]
     },
     "execution_count": 4,
     "metadata": {},
     "output_type": "execute_result"
    },
    {
     "data": {
      "image/png": "[encoded data removed]",
      "text/plain": [
       "<Figure size 432x288 with 1 Axes>"
      ]
     },
     "metadata": {
      "needs_background": "light"
     },
     "output_type": "display_data"
    }
   ],
   "source": [
    "wine_quality = wine_df.label.value_counts(normalize=True)\n",
    "wine_quality = wine_quality.sort_index()\n",
    "wine_quality.plot(kind=\"bar\")"
   ]
  },
  {
   "cell_type": "markdown",
   "metadata": {},
   "source": [
    "### Transforming Label\n",
    "Transforming label from 10 different labels to 2 labels of GOOD or BAD Quality"
   ]
  },
  {
   "cell_type": "code",
   "execution_count": 5,
   "metadata": {},
   "outputs": [],
   "source": [
    "def transform_label(value):\n",
    "    if value <= 5:\n",
    "        return \"bad\"\n",
    "    else:\n",
    "        return \"good\"\n",
    "\n",
    "wine_df[\"label\"] = wine_df.label.apply(transform_label)"
   ]
  },
  {
   "cell_type": "markdown",
   "metadata": {},
   "source": [
    "#### Ploting Wine Quality after Transform label"
   ]
  },
  {
   "cell_type": "code",
   "execution_count": 6,
   "metadata": {},
   "outputs": [
    {
     "data": {
      "text/plain": [
       "good    0.534709\n",
       "bad     0.465291\n",
       "Name: label, dtype: float64"
      ]
     },
     "execution_count": 6,
     "metadata": {},
     "output_type": "execute_result"
    },
    {
     "data": {
      "image/png": "[encoded data removed]",
      "text/plain": [
       "<Figure size 432x288 with 1 Axes>"
      ]
     },
     "metadata": {
      "needs_background": "light"
     },
     "output_type": "display_data"
    }
   ],
   "source": [
    "wine_quality = wine_df.label.value_counts(normalize=True)\n",
    "wine_quality[[\"bad\", \"good\"]].plot(kind=\"bar\")\n",
    "wine_quality"
   ]
  },
  {
   "cell_type": "markdown",
   "metadata": {},
   "source": [
    "### Train Test Split"
   ]
  },
  {
   "cell_type": "code",
   "execution_count": 7,
   "metadata": {},
   "outputs": [],
   "source": [
    "random.seed(0)\n",
    "train_wine, test_wine = train_test_split(wine_df, test_size=0.2)"
   ]
  },
  {
   "cell_type": "markdown",
   "metadata": {},
   "source": [
    "### Random Forest Algorithm\n",
    "Random Forest Algorithm from Random forest function created by Anubhav Sharma"
   ]
  },
  {
   "cell_type": "code",
   "execution_count": 8,
   "metadata": {},
   "outputs": [],
   "source": [
    "wine_forest = RandomForestAlgorithm(train_wine,n_trees=4,mltask='classification',n_bootstrap=800,n_feature=5,dt_max_depth=4)"
   ]
  },
  {
   "cell_type": "markdown",
   "metadata": {},
   "source": [
    "### Accuracy Prediction\n",
    "#### Training Data"
   ]
  },
  {
   "cell_type": "code",
   "execution_count": 9,
   "metadata": {},
   "outputs": [
    {
     "name": "stdout",
     "output_type": "stream",
     "text": [
      "-------------------------------------------------\n",
      "\n",
      "Accuracy over Wine Quality Training Data : 0.7474589523064894\n",
      "\n",
      "-------------------------------------------------\n"
     ]
    }
   ],
   "source": [
    "prediction_wine_train = RandomForestPrediction(train_wine,wine_forest)\n",
    "accuracy_wine_train = calculate_accuracy(prediction_wine_train,train_wine.label)\n",
    "print(\"-------------------------------------------------\\n\")\n",
    "print(\"Accuracy over Wine Quality Training Data : {}\".format(accuracy_wine_train))\n",
    "print(\"\\n-------------------------------------------------\")"
   ]
  },
  {
   "cell_type": "markdown",
   "metadata": {},
   "source": [
    "#### Testing Data"
   ]
  },
  {
   "cell_type": "code",
   "execution_count": 10,
   "metadata": {},
   "outputs": [
    {
     "name": "stdout",
     "output_type": "stream",
     "text": [
      "-------------------------------------------------\n",
      "\n",
      "Accuracy over Wine Quality Testing Data : 0.746875\n",
      "\n",
      "-------------------------------------------------\n"
     ]
    }
   ],
   "source": [
    "prediction_wine_test = RandomForestPrediction(test_wine,wine_forest)\n",
    "accuracy_wine_test = calculate_accuracy(prediction_wine_test,test_wine.label)\n",
    "print(\"-------------------------------------------------\\n\")\n",
    "print(\"Accuracy over Wine Quality Testing Data : {}\".format(accuracy_wine_test))\n",
    "print(\"\\n-------------------------------------------------\")"
   ]
  },
  {
   "cell_type": "markdown",
   "metadata": {},
   "source": [
    "# DataSet 2 (Catagorical Data)"
   ]
  },
  {
   "cell_type": "markdown",
   "metadata": {},
   "source": [
    "# ----------------------------------------------------------------------------------------------------------\n",
    "### Calling Data\n",
    "Data is call for work. The Columns are selected here is according to the TITANIC DATASET. Easily find on Kaggle(www.kaggle.com).<br>\n",
    "Removing unnecessary columns from the dataset so that you won't face any trouble regarding the dataset. I use Titanic Dataset to train model and predict whether the person is having cancer or not."
   ]
  },
  {
   "cell_type": "code",
   "execution_count": 11,
   "metadata": {},
   "outputs": [],
   "source": [
    "titanic_df = pd.read_csv('./Dataset/Titanic Dataset/train.csv')"
   ]
  },
  {
   "cell_type": "markdown",
   "metadata": {},
   "source": [
    "## Preprocessiong of data"
   ]
  },
  {
   "cell_type": "code",
   "execution_count": 12,
   "metadata": {},
   "outputs": [],
   "source": [
    "titanic_df['label'] = titanic_df.Survived\n",
    "\n",
    "titanic_df.drop(['PassengerId','Survived','Name','Ticket','Cabin','Embarked'],axis=1,inplace=True)\n",
    "\n",
    "median_age = titanic_df.Age.median()\n",
    "titanic_df = titanic_df.fillna({'Age' : median_age})"
   ]
  },
  {
   "cell_type": "markdown",
   "metadata": {},
   "source": [
    "### Train Test Split"
   ]
  },
  {
   "cell_type": "code",
   "execution_count": 13,
   "metadata": {},
   "outputs": [],
   "source": [
    "train_titanic, test_titanic = train_test_split(titanic_df,test_size=0.25)"
   ]
  },
  {
   "cell_type": "markdown",
   "metadata": {},
   "source": [
    "### Random Forest Algorithm\n",
    "Random Forest Algorithm from Random forest function created by Anubhav Sharma"
   ]
  },
  {
   "cell_type": "code",
   "execution_count": 14,
   "metadata": {},
   "outputs": [],
   "source": [
    "titanic_forest = RandomForestAlgorithm(train_titanic,n_trees=10,mltask='classification',n_bootstrap=500,n_feature=4,dt_max_depth=10)"
   ]
  },
  {
   "cell_type": "markdown",
   "metadata": {},
   "source": [
    "### Accuracy Prediction\n",
    "#### Training Data"
   ]
  },
  {
   "cell_type": "code",
   "execution_count": 15,
   "metadata": {},
   "outputs": [
    {
     "name": "stdout",
     "output_type": "stream",
     "text": [
      "-------------------------------------------------\n",
      "\n",
      "Accuracy over Titanic Training Data : 0.9116766467065869\n",
      "\n",
      "-------------------------------------------------\n"
     ]
    }
   ],
   "source": [
    "prediction_titanic_train = RandomForestPrediction(train_titanic,titanic_forest)\n",
    "accuracy_titanic_train = calculate_accuracy(prediction_titanic_train,train_titanic.label)\n",
    "print(\"-------------------------------------------------\\n\")\n",
    "print(\"Accuracy over Titanic Training Data : {}\".format(accuracy_titanic_train))\n",
    "print(\"\\n-------------------------------------------------\")"
   ]
  },
  {
   "cell_type": "markdown",
   "metadata": {},
   "source": [
    "#### Testing Data"
   ]
  },
  {
   "cell_type": "code",
   "execution_count": 16,
   "metadata": {},
   "outputs": [
    {
     "name": "stdout",
     "output_type": "stream",
     "text": [
      "-------------------------------------------------\n",
      "\n",
      "Accuracy over Titanic Testing Data : 0.8161434977578476\n",
      "\n",
      "-------------------------------------------------\n"
     ]
    }
   ],
   "source": [
    "prediction_titanic_test = RandomForestPrediction(test_titanic,titanic_forest)\n",
    "accuracy_titanic_test = calculate_accuracy(prediction_titanic_test,test_titanic.label)\n",
    "print(\"-------------------------------------------------\\n\")\n",
    "print(\"Accuracy over Titanic Testing Data : {}\".format(accuracy_titanic_test))\n",
    "print(\"\\n-------------------------------------------------\")"
   ]
  }
 ],
 "metadata": {
  "kernelspec": {
   "display_name": "Python 3",
   "language": "python",
   "name": "python3"
  },
  "language_info": {
   "codemirror_mode": {
    "name": "ipython",
    "version": 3
   },
   "file_extension": ".py",
   "mimetype": "text/x-python",
   "name": "python",
   "nbconvert_exporter": "python",
   "pygments_lexer": "ipython3",
   "version": "3.7.6"
  }
 },
 "nbformat": 4,
 "nbformat_minor": 4
}
