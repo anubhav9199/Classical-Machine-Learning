{
 "cells": [
  {
   "cell_type": "markdown",
   "metadata": {},
   "source": [
    "# Decision Tree Classification from Scratch using Tree Module over Two Dataset (Continuous and Catagorical) \n",
    "Decision Tree algorithms are used for both predictions as well as classification in machine learning. Using the decision tree with a given set of inputs, one can map the various outcomes that are a result of the consequences or decisions.<br>\n",
    "Decision Tree Analysis is a general, predictive modelling tool that has applications spanning a number of different areas. In general, decision trees are constructed via an algorithmic approach that identifies ways to split a data set based on different conditions. It is one of the most widely used and practical methods for supervised learning.<br>\n",
    "Decision Trees are a non-parametric supervised learning method used for both classification and regression tasks. The goal is to create a model that predicts the value of a target variable by learning simple decision rules inferred from the data features.<br>\n",
    "The decision rules are generally in form of if-then-else statements. The deeper the tree, the more complex the rules and fitter the model.\n",
    "# -------------------------------------------------------------------------------------------------------------------------------\n",
    "### Importing Libraries\n",
    "The Tree Module imported here for classification is created by Anubhav Sharma"
   ]
  },
  {
   "cell_type": "code",
   "execution_count": 1,
   "metadata": {},
   "outputs": [],
   "source": [
    "import pandas as pd\n",
    "import random\n",
    "random.seed(0)\n",
    "from Tree.DecisionTreeFunction import DecisionTreeAlgorithm, calculate_accuracy\n",
    "from Tree.Helperfunction import train_test_split"
   ]
  },
  {
   "cell_type": "markdown",
   "metadata": {},
   "source": [
    "# -------------------------------------------------------------------------------------------------------------------------------\n",
    "# Dataset :- 1"
   ]
  },
  {
   "cell_type": "markdown",
   "metadata": {},
   "source": [
    "# -------------------------------------------------------------------------------------------------------------------------------\n",
    "## Calling Data\n",
    "Data is call for work. The Columns are selected here is according to the BREAST CANCER DATASET from WINCONSIN Hospital Easily find on Kaggle (https://www.kaggle.com/uciml/breast-cancer-wisconsin-data).<br>\n",
    "Removing unnecessary columns from the dataset so that you won't face any trouble regarding the dataset. I use Breast Cancer Dataset to train model and predict whether the person is having cancer or not."
   ]
  },
  {
   "cell_type": "code",
   "execution_count": 2,
   "metadata": {},
   "outputs": [],
   "source": [
    "df1 = pd.read_csv('./Dataset/Breast Cancer/Breast_Cancer_Data.csv')\n",
    "\n",
    "# creating label at last of dataframe\n",
    "df1['label'] = df1.diagnosis\n",
    "df1['label'].replace(['B','M'], [0,1], inplace = True)\n",
    "\n",
    "# Droping unnecessory columns\n",
    "df1.drop([df1.columns[0], df1.columns[1], df1.columns[32]], axis = 1, inplace = True)"
   ]
  },
  {
   "cell_type": "markdown",
   "metadata": {},
   "source": [
    "## Spliting into Train and Test DataFrame"
   ]
  },
  {
   "cell_type": "code",
   "execution_count": 3,
   "metadata": {},
   "outputs": [],
   "source": [
    "train_df1, test_df1 = train_test_split(df1, test_size = 0.25)"
   ]
  },
  {
   "cell_type": "markdown",
   "metadata": {},
   "source": [
    "## Classifiction Model Fitting"
   ]
  },
  {
   "cell_type": "code",
   "execution_count": 4,
   "metadata": {},
   "outputs": [],
   "source": [
    "tree1 = DecisionTreeAlgorithm(train_df1, mltask = 'classification', max_depth = 7, min_samples = 8)"
   ]
  },
  {
   "cell_type": "markdown",
   "metadata": {},
   "source": [
    "## Calculating Accuracy"
   ]
  },
  {
   "cell_type": "markdown",
   "metadata": {},
   "source": [
    "### Training Data"
   ]
  },
  {
   "cell_type": "code",
   "execution_count": 5,
   "metadata": {},
   "outputs": [
    {
     "name": "stdout",
     "output_type": "stream",
     "text": [
      "Accuracy over Training Data 1 : 0.7377049180327869\n"
     ]
    }
   ],
   "source": [
    "accuracy_train_data1 = calculate_accuracy(train_df1, tree1)\n",
    "print(\"Accuracy over Training Data 1 : {}\".format(accuracy_train_data1))"
   ]
  },
  {
   "cell_type": "markdown",
   "metadata": {},
   "source": [
    "### Testing Data"
   ]
  },
  {
   "cell_type": "code",
   "execution_count": 6,
   "metadata": {},
   "outputs": [
    {
     "name": "stdout",
     "output_type": "stream",
     "text": [
      "Accuracy over Testing Data 1 : 0.6690140845070423\n"
     ]
    }
   ],
   "source": [
    "accuracy_test_data1 = calculate_accuracy(test_df1, tree1)\n",
    "print(\"Accuracy over Testing Data 1 : {}\".format(accuracy_test_data1))"
   ]
  },
  {
   "cell_type": "markdown",
   "metadata": {},
   "source": [
    "# -------------------------------------------------------------------------------------------------------------------------------\n",
    "# Dataset :- 2"
   ]
  },
  {
   "cell_type": "markdown",
   "metadata": {},
   "source": [
    "# -------------------------------------------------------------------------------------------------------------------------------\n",
    "## Calling Data\n",
    "Data is call for work. The Columns are selected here is according to the TITANIC TRAVELLERS DATASET. Easily find on Kaggle (https://www.kaggle.com/hesh97/titanicdataset-traincsv).<br>\n",
    "Removing unnecessary columns from the dataset so that you won't face any trouble regarding the dataset. I use Titanic Dataset to train model and predict whether the person is Survived or not."
   ]
  },
  {
   "cell_type": "code",
   "execution_count": 7,
   "metadata": {},
   "outputs": [],
   "source": [
    "df2 = pd.read_csv(\"./Dataset/Titanic Dataset/train.csv\")\n",
    "df2[\"label\"] = df2.Survived\n",
    "df2.drop(['PassengerId', 'Survived', 'Name', 'Ticket', 'Cabin', 'Embarked'], axis = 1, inplace =  True)\n",
    "\n",
    "median_age = df2.Age.median()\n",
    "\n",
    "df2 = df2.fillna({'Age' : median_age})"
   ]
  },
  {
   "cell_type": "markdown",
   "metadata": {},
   "source": [
    "## Spliting into Train and Test DataFrame"
   ]
  },
  {
   "cell_type": "code",
   "execution_count": 8,
   "metadata": {},
   "outputs": [],
   "source": [
    "train_df2, test_df2 = train_test_split(df2, test_size = 0.25)"
   ]
  },
  {
   "cell_type": "markdown",
   "metadata": {},
   "source": [
    "## Classifiction Model Fitting"
   ]
  },
  {
   "cell_type": "code",
   "execution_count": 9,
   "metadata": {},
   "outputs": [],
   "source": [
    "tree2 = DecisionTreeAlgorithm(train_df2, mltask = 'classification', max_depth = 30, min_samples = 38)"
   ]
  },
  {
   "cell_type": "markdown",
   "metadata": {},
   "source": [
    "## Calculating Accuracy"
   ]
  },
  {
   "cell_type": "markdown",
   "metadata": {},
   "source": [
    "### Training Data"
   ]
  },
  {
   "cell_type": "code",
   "execution_count": 10,
   "metadata": {},
   "outputs": [
    {
     "name": "stdout",
     "output_type": "stream",
     "text": [
      "Accuracy over Training Data 2 : 0.7604790419161677\n"
     ]
    }
   ],
   "source": [
    "accuracy_train_data2 = calculate_accuracy(train_df2, tree2)\n",
    "print(\"Accuracy over Training Data 2 : {}\".format(accuracy_train_data2))"
   ]
  },
  {
   "cell_type": "markdown",
   "metadata": {},
   "source": [
    "### Testing Data"
   ]
  },
  {
   "cell_type": "code",
   "execution_count": 11,
   "metadata": {},
   "outputs": [
    {
     "name": "stdout",
     "output_type": "stream",
     "text": [
      "Accuracy over Testing Data 2 : 0.6636771300448431\n"
     ]
    }
   ],
   "source": [
    "accuracy_test_data2 = calculate_accuracy(test_df2, tree2)\n",
    "print(\"Accuracy over Testing Data 2 : {}\".format(accuracy_test_data2))"
   ]
  }
 ],
 "metadata": {
  "kernelspec": {
   "display_name": "Python 3",
   "language": "python",
   "name": "python3"
  },
  "language_info": {
   "codemirror_mode": {
    "name": "ipython",
    "version": 3
   },
   "file_extension": ".py",
   "mimetype": "text/x-python",
   "name": "python",
   "nbconvert_exporter": "python",
   "pygments_lexer": "ipython3",
   "version": "3.7.6"
  }
 },
 "nbformat": 4,
 "nbformat_minor": 4
}
