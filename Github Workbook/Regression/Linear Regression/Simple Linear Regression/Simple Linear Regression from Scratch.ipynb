{
 "cells": [
  {
   "cell_type": "markdown",
   "metadata": {},
   "source": [
    "# Linear Regression From Scratch on Generated Data"
   ]
  },
  {
   "cell_type": "markdown",
   "metadata": {},
   "source": [
    "Linear regression is a algorithm which is starting level algorithm for machine learning prediction. This code contains only about how we can genrate our own linear data with some noise and also to get a good output result out of it. The code is fully moduler so that to keep in mind about the use of the functions in other programs also."
   ]
  },
  {
   "cell_type": "markdown",
   "metadata": {},
   "source": [
    "## Importing Libraries"
   ]
  },
  {
   "cell_type": "code",
   "execution_count": 37,
   "metadata": {},
   "outputs": [],
   "source": [
    "import numpy as np\n",
    "import pandas as pd\n",
    "import matplotlib.pyplot as plt\n",
    "from sklearn.model_selection import train_test_split"
   ]
  },
  {
   "cell_type": "markdown",
   "metadata": {},
   "source": [
    "## Functions use for Linear regression"
   ]
  },
  {
   "cell_type": "markdown",
   "metadata": {},
   "source": [
    "### Generating Linear data with Some Noise"
   ]
  },
  {
   "cell_type": "code",
   "execution_count": 38,
   "metadata": {},
   "outputs": [],
   "source": [
    "\"\"\"The function is use for the data generation it can produce linear data using linspace function of \n",
    "numpy library\"\"\"\n",
    "def data_gen(n):\n",
    "    x = np.linspace(0,1,n)\n",
    "    y = 15*x+5+np.random.randn(len(x))\n",
    "    plt.scatter(x,y)\n",
    "    return x,y"
   ]
  },
  {
   "cell_type": "markdown",
   "metadata": {},
   "source": [
    "### Prediction, Mean Square Error, Gradient and Line Functions"
   ]
  },
  {
   "cell_type": "code",
   "execution_count": 39,
   "metadata": {},
   "outputs": [],
   "source": [
    "\"\"\"prediction function for predicting the result of the linear regression\"\"\"\n",
    "def predict(theta0,theta,xi):\n",
    "    \n",
    "    #function returns the prediction value(RESULT)\n",
    "    return theta0 + theta * xi\n",
    "\n",
    "\"\"\"mean square error function shows the mean square error done by the gradient descent to lower down the \n",
    "error/loss in the learning and predicting of data\"\"\"\n",
    "def sq_error(theta0,theta,xi,yi):\n",
    "    \n",
    "    #function returns the sum of mean square error\n",
    "    return sum((yi-predict(theta0,theta,xi))**2)/n\n",
    "\n",
    "\"\"\"gradient function is use to find the derivatives for the gradient descent algorithm\"\"\"\n",
    "def gradients(theta0,theta,xi,yi):\n",
    "    \n",
    "    #derivaties of the gradient\n",
    "    dj0=theta0+theta*xi-yi\n",
    "    dj1=dj0@xi.T\n",
    "    \n",
    "    #function returns the list of gradient derivaties\n",
    "    return [sum(dj0)/n,\n",
    "            np.sum(dj1)/n]\n",
    "\n",
    "\"\"\"line function to trace the line curve in the plot and to get the error/loss line which is y = m * x + c\"\"\"\n",
    "def line(slope,intercept):\n",
    "    axes = plt.gca()\n",
    "    x = np.array(axes.get_xlim())\n",
    "    \n",
    "    #Line equation which is to be plot here intercept is the distance from the origin to the line on the y-axia\n",
    "    #and slope is the angle of the line from the positive x-axis\n",
    "    y = intercept + slope * x \n",
    "    \n",
    "    #ploting the line\n",
    "    plt.plot(x,y,'--r',linewidth = 2)"
   ]
  },
  {
   "cell_type": "markdown",
   "metadata": {},
   "source": [
    "### Gradient Descent "
   ]
  },
  {
   "cell_type": "code",
   "execution_count": 48,
   "metadata": {},
   "outputs": [],
   "source": [
    "\"\"\"The Fit function is to fit the learning curve and reduce the loss of the model. The algorithm use here is\n",
    "the Stocastic Gradient Descent(SGD). The algorithm is containing the learning rate,epsilon for the stoping of\n",
    "under going algorithm to find global minima\"\"\"\n",
    "def fit(x,y,alpha,epsilon):\n",
    "    #Initializing variables\n",
    "    t0i=0\n",
    "    ti=0\n",
    "    i=0\n",
    "    error=1\n",
    "    loss=sq_error(t0i,ti,x,y)\n",
    "    losslist=[]\n",
    "    iterlist=[]\n",
    "    \n",
    "    #Loop for the continuing the process again till it gets to the local minima\n",
    "    while error>epsilon:\n",
    "        \n",
    "        #using of gradient function\n",
    "        gt0,gt=gradients(t0i,ti,x,y)\n",
    "        \n",
    "        theta0=t0i-alpha*gt0\n",
    "        theta=ti-alpha*gt\n",
    "        \n",
    "        t0i=theta0\n",
    "        ti=theta\n",
    "        \n",
    "        loss_final=sq_error(theta0,theta,x,y)\n",
    "        error=abs(loss_final-loss)\n",
    "        \n",
    "        losslist.append(loss)\n",
    "        iterlist.append(i)\n",
    "        loss=loss_final\n",
    "        i+=1\n",
    "        \n",
    "    #ploting the learning curve\n",
    "    plt.plot(iterlist,losslist)\n",
    "    plt.xlabel('Iterations')\n",
    "    plt.ylabel('Loss')\n",
    "    return theta0,theta"
   ]
  },
  {
   "cell_type": "markdown",
   "metadata": {},
   "source": [
    "## MAIN FUNCTION OF THE LINEAR REGRESSION"
   ]
  },
  {
   "cell_type": "code",
   "execution_count": 41,
   "metadata": {},
   "outputs": [
    {
     "data": {
      "image/png": "[encoded data removed]",
      "text/plain": [
       "<Figure size 432x288 with 1 Axes>"
      ]
     },
     "metadata": {
      "needs_background": "light"
     },
     "output_type": "display_data"
    }
   ],
   "source": [
    "n = 500\n",
    "x,y = data_gen(n)\n",
    "x_train,x_test,y_train,y_test = train_test_split(x,y,test_size = 0.3)"
   ]
  },
  {
   "cell_type": "markdown",
   "metadata": {},
   "source": [
    "### Fitting the Curve"
   ]
  },
  {
   "cell_type": "code",
   "execution_count": 42,
   "metadata": {
    "scrolled": false
   },
   "outputs": [
    {
     "data": {
      "image/png": "[encoded data removed]",
      "text/plain": [
       "<Figure size 432x288 with 1 Axes>"
      ]
     },
     "metadata": {
      "needs_background": "light"
     },
     "output_type": "display_data"
    }
   ],
   "source": [
    "t0,t = fit(x_train,y_train,alpha = 0.01,epsilon = 0.000001)"
   ]
  },
  {
   "cell_type": "markdown",
   "metadata": {},
   "source": [
    "### Training error work"
   ]
  },
  {
   "cell_type": "code",
   "execution_count": 43,
   "metadata": {},
   "outputs": [
    {
     "data": {
      "text/plain": [
       "0.7907747157983062"
      ]
     },
     "execution_count": 43,
     "metadata": {},
     "output_type": "execute_result"
    }
   ],
   "source": [
    "sq_error(t0,t,x_train,y_train)"
   ]
  },
  {
   "cell_type": "code",
   "execution_count": 44,
   "metadata": {},
   "outputs": [
    {
     "data": {
      "image/png": "[encoded data removed]",
      "text/plain": [
       "<Figure size 432x288 with 1 Axes>"
      ]
     },
     "metadata": {
      "needs_background": "light"
     },
     "output_type": "display_data"
    }
   ],
   "source": [
    "plt.scatter(x_train,y_train)\n",
    "line(t,t0)\n",
    "plt.show()"
   ]
  },
  {
   "cell_type": "markdown",
   "metadata": {},
   "source": [
    "### Testing Result"
   ]
  },
  {
   "cell_type": "code",
   "execution_count": 45,
   "metadata": {},
   "outputs": [],
   "source": [
    "result=predict(t0,t,x_test)"
   ]
  },
  {
   "cell_type": "code",
   "execution_count": 46,
   "metadata": {},
   "outputs": [
    {
     "data": {
      "text/plain": [
       "0.3136280963366875"
      ]
     },
     "execution_count": 46,
     "metadata": {},
     "output_type": "execute_result"
    }
   ],
   "source": [
    "sq_error(t0,t,x_test,y_test)"
   ]
  },
  {
   "cell_type": "code",
   "execution_count": 47,
   "metadata": {},
   "outputs": [
    {
     "data": {
      "image/png": "[encoded data removed]",
      "text/plain": [
       "<Figure size 432x288 with 1 Axes>"
      ]
     },
     "metadata": {
      "needs_background": "light"
     },
     "output_type": "display_data"
    }
   ],
   "source": [
    "plt.scatter(x_test,y_test)\n",
    "plt.plot(x_test,result,'r')\n",
    "plt.show()"
   ]
  },
  {
   "cell_type": "code",
   "execution_count": null,
   "metadata": {},
   "outputs": [],
   "source": []
  },
  {
   "cell_type": "code",
   "execution_count": null,
   "metadata": {},
   "outputs": [],
   "source": []
  }
 ],
 "metadata": {
  "kernelspec": {
   "display_name": "Python 3",
   "language": "python",
   "name": "python3"
  },
  "language_info": {
   "codemirror_mode": {
    "name": "ipython",
    "version": 3
   },
   "file_extension": ".py",
   "mimetype": "text/x-python",
   "name": "python",
   "nbconvert_exporter": "python",
   "pygments_lexer": "ipython3",
   "version": "3.7.4"
  }
 },
 "nbformat": 4,
 "nbformat_minor": 4
}
